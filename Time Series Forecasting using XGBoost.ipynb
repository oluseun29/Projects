{
 "cells": [
  {
   "cell_type": "code",
   "execution_count": 164,
   "id": "1a837b71",
   "metadata": {},
   "outputs": [
    {
     "data": {
      "application/javascript": [
       "\n",
       "            setTimeout(function() {\n",
       "                var nbb_cell_id = 164;\n",
       "                var nbb_unformatted_code = \"# To help with reading and manipulating data\\nimport pandas as pd\\nimport numpy as np\\n\\n# To help with data visualization\\n%matplotlib inline\\nimport matplotlib.pyplot as plt\\nimport seaborn as sns\\n\\n# for color pallette\\ncolor_pal = sns.color_palette()\\n\\n# To be used for missing value imputation\\nfrom sklearn.impute import SimpleImputer\\n\\n# To help with model building\\nfrom sklearn.linear_model import LogisticRegression\\nfrom sklearn.tree import DecisionTreeClassifier\\nfrom sklearn.ensemble import (\\n    AdaBoostClassifier,\\n    GradientBoostingClassifier,\\n    RandomForestClassifier,\\n    BaggingClassifier,\\n)\\nfrom xgboost import XGBClassifier\\nfrom xgboost import XGBRegressor\\n\\n# To get different metric scores, and split data\\nfrom sklearn import metrics\\nfrom sklearn.model_selection import train_test_split, StratifiedKFold, cross_val_score\\nfrom sklearn.metrics import (\\n    mean_squared_error,\\n    f1_score,\\n    accuracy_score,\\n    recall_score,\\n    precision_score,\\n    confusion_matrix,\\n    roc_auc_score,\\n    plot_confusion_matrix,\\n)\\n\\n# To be used for data scaling and one hot encoding\\nfrom sklearn.preprocessing import StandardScaler, MinMaxScaler, OneHotEncoder\\n\\n# To be used for tuning the model\\nfrom sklearn.model_selection import GridSearchCV, RandomizedSearchCV\\n\\n# To be used for creating pipelines and personalizing them\\nfrom sklearn.pipeline import Pipeline\\nfrom sklearn.compose import ColumnTransformer\\n\\n# To define maximum number of columns to be displayed in a dataframe\\npd.set_option(\\\"display.max_columns\\\", None)\\n\\n# To supress scientific notations for a dataframe\\npd.set_option(\\\"display.float_format\\\", lambda x: \\\"%.3f\\\" % x)\\n\\n# To supress warnings\\nimport warnings\\n\\nwarnings.filterwarnings(\\\"ignore\\\")\\n\\n# This will help in making the Python code more structured automatically (good coding practice)\\n%reload_ext nb_black\";\n",
       "                var nbb_formatted_code = \"# To help with reading and manipulating data\\nimport pandas as pd\\nimport numpy as np\\n\\n# To help with data visualization\\n%matplotlib inline\\nimport matplotlib.pyplot as plt\\nimport seaborn as sns\\n\\n# for color pallette\\ncolor_pal = sns.color_palette()\\n\\n# To be used for missing value imputation\\nfrom sklearn.impute import SimpleImputer\\n\\n# To help with model building\\nfrom sklearn.linear_model import LogisticRegression\\nfrom sklearn.tree import DecisionTreeClassifier\\nfrom sklearn.ensemble import (\\n    AdaBoostClassifier,\\n    GradientBoostingClassifier,\\n    RandomForestClassifier,\\n    BaggingClassifier,\\n)\\nfrom xgboost import XGBClassifier\\nfrom xgboost import XGBRegressor\\n\\n# To get different metric scores, and split data\\nfrom sklearn import metrics\\nfrom sklearn.model_selection import train_test_split, StratifiedKFold, cross_val_score\\nfrom sklearn.metrics import (\\n    mean_squared_error,\\n    f1_score,\\n    accuracy_score,\\n    recall_score,\\n    precision_score,\\n    confusion_matrix,\\n    roc_auc_score,\\n    plot_confusion_matrix,\\n)\\n\\n# To be used for data scaling and one hot encoding\\nfrom sklearn.preprocessing import StandardScaler, MinMaxScaler, OneHotEncoder\\n\\n# To be used for tuning the model\\nfrom sklearn.model_selection import GridSearchCV, RandomizedSearchCV\\n\\n# To be used for creating pipelines and personalizing them\\nfrom sklearn.pipeline import Pipeline\\nfrom sklearn.compose import ColumnTransformer\\n\\n# To define maximum number of columns to be displayed in a dataframe\\npd.set_option(\\\"display.max_columns\\\", None)\\n\\n# To supress scientific notations for a dataframe\\npd.set_option(\\\"display.float_format\\\", lambda x: \\\"%.3f\\\" % x)\\n\\n# To supress warnings\\nimport warnings\\n\\nwarnings.filterwarnings(\\\"ignore\\\")\\n\\n# This will help in making the Python code more structured automatically (good coding practice)\\n%reload_ext nb_black\";\n",
       "                var nbb_cells = Jupyter.notebook.get_cells();\n",
       "                for (var i = 0; i < nbb_cells.length; ++i) {\n",
       "                    if (nbb_cells[i].input_prompt_number == nbb_cell_id) {\n",
       "                        if (nbb_cells[i].get_text() == nbb_unformatted_code) {\n",
       "                             nbb_cells[i].set_text(nbb_formatted_code);\n",
       "                        }\n",
       "                        break;\n",
       "                    }\n",
       "                }\n",
       "            }, 500);\n",
       "            "
      ],
      "text/plain": [
       "<IPython.core.display.Javascript object>"
      ]
     },
     "metadata": {},
     "output_type": "display_data"
    },
    {
     "data": {
      "application/javascript": [
       "\n",
       "            setTimeout(function() {\n",
       "                var nbb_cell_id = 164;\n",
       "                var nbb_unformatted_code = \"# To help with reading and manipulating data\\nimport pandas as pd\\nimport numpy as np\\n\\n# To help with data visualization\\n%matplotlib inline\\nimport matplotlib.pyplot as plt\\nimport seaborn as sns\\n\\n# for color pallette\\ncolor_pal = sns.color_palette()\\n\\n# To be used for missing value imputation\\nfrom sklearn.impute import SimpleImputer\\n\\n# To help with model building\\nfrom sklearn.linear_model import LogisticRegression\\nfrom sklearn.tree import DecisionTreeClassifier\\nfrom sklearn.ensemble import (\\n    AdaBoostClassifier,\\n    GradientBoostingClassifier,\\n    RandomForestClassifier,\\n    BaggingClassifier,\\n)\\nfrom xgboost import XGBClassifier\\nfrom xgboost import XGBRegressor\\n\\n# To get different metric scores, and split data\\nfrom sklearn import metrics\\nfrom sklearn.model_selection import train_test_split, StratifiedKFold, cross_val_score\\nfrom sklearn.metrics import (\\n    mean_squared_error,\\n    f1_score,\\n    accuracy_score,\\n    recall_score,\\n    precision_score,\\n    confusion_matrix,\\n    roc_auc_score,\\n    plot_confusion_matrix,\\n)\\n\\n# To be used for data scaling and one hot encoding\\nfrom sklearn.preprocessing import StandardScaler, MinMaxScaler, OneHotEncoder\\n\\n# To be used for tuning the model\\nfrom sklearn.model_selection import GridSearchCV, RandomizedSearchCV\\n\\n# To be used for creating pipelines and personalizing them\\nfrom sklearn.pipeline import Pipeline\\nfrom sklearn.compose import ColumnTransformer\\n\\n# To define maximum number of columns to be displayed in a dataframe\\npd.set_option(\\\"display.max_columns\\\", None)\\n\\n# To supress scientific notations for a dataframe\\npd.set_option(\\\"display.float_format\\\", lambda x: \\\"%.3f\\\" % x)\\n\\n# To supress warnings\\nimport warnings\\n\\nwarnings.filterwarnings(\\\"ignore\\\")\\n\\n# This will help in making the Python code more structured automatically (good coding practice)\\n%reload_ext nb_black\";\n",
       "                var nbb_formatted_code = \"# To help with reading and manipulating data\\nimport pandas as pd\\nimport numpy as np\\n\\n# To help with data visualization\\n%matplotlib inline\\nimport matplotlib.pyplot as plt\\nimport seaborn as sns\\n\\n# for color pallette\\ncolor_pal = sns.color_palette()\\n\\n# To be used for missing value imputation\\nfrom sklearn.impute import SimpleImputer\\n\\n# To help with model building\\nfrom sklearn.linear_model import LogisticRegression\\nfrom sklearn.tree import DecisionTreeClassifier\\nfrom sklearn.ensemble import (\\n    AdaBoostClassifier,\\n    GradientBoostingClassifier,\\n    RandomForestClassifier,\\n    BaggingClassifier,\\n)\\nfrom xgboost import XGBClassifier\\nfrom xgboost import XGBRegressor\\n\\n# To get different metric scores, and split data\\nfrom sklearn import metrics\\nfrom sklearn.model_selection import train_test_split, StratifiedKFold, cross_val_score\\nfrom sklearn.metrics import (\\n    mean_squared_error,\\n    f1_score,\\n    accuracy_score,\\n    recall_score,\\n    precision_score,\\n    confusion_matrix,\\n    roc_auc_score,\\n    plot_confusion_matrix,\\n)\\n\\n# To be used for data scaling and one hot encoding\\nfrom sklearn.preprocessing import StandardScaler, MinMaxScaler, OneHotEncoder\\n\\n# To be used for tuning the model\\nfrom sklearn.model_selection import GridSearchCV, RandomizedSearchCV\\n\\n# To be used for creating pipelines and personalizing them\\nfrom sklearn.pipeline import Pipeline\\nfrom sklearn.compose import ColumnTransformer\\n\\n# To define maximum number of columns to be displayed in a dataframe\\npd.set_option(\\\"display.max_columns\\\", None)\\n\\n# To supress scientific notations for a dataframe\\npd.set_option(\\\"display.float_format\\\", lambda x: \\\"%.3f\\\" % x)\\n\\n# To supress warnings\\nimport warnings\\n\\nwarnings.filterwarnings(\\\"ignore\\\")\\n\\n# This will help in making the Python code more structured automatically (good coding practice)\\n%reload_ext nb_black\";\n",
       "                var nbb_cells = Jupyter.notebook.get_cells();\n",
       "                for (var i = 0; i < nbb_cells.length; ++i) {\n",
       "                    if (nbb_cells[i].input_prompt_number == nbb_cell_id) {\n",
       "                        if (nbb_cells[i].get_text() == nbb_unformatted_code) {\n",
       "                             nbb_cells[i].set_text(nbb_formatted_code);\n",
       "                        }\n",
       "                        break;\n",
       "                    }\n",
       "                }\n",
       "            }, 500);\n",
       "            "
      ],
      "text/plain": [
       "<IPython.core.display.Javascript object>"
      ]
     },
     "metadata": {},
     "output_type": "display_data"
    }
   ],
   "source": [
    "# To help with reading and manipulating data\n",
    "import pandas as pd\n",
    "import numpy as np\n",
    "\n",
    "# To help with data visualization\n",
    "%matplotlib inline\n",
    "import matplotlib.pyplot as plt\n",
    "import seaborn as sns\n",
    "\n",
    "# for color pallette\n",
    "color_pal = sns.color_palette()\n",
    "\n",
    "# To be used for missing value imputation\n",
    "from sklearn.impute import SimpleImputer\n",
    "\n",
    "# To help with model building\n",
    "from sklearn.linear_model import LogisticRegression\n",
    "from sklearn.tree import DecisionTreeClassifier\n",
    "from sklearn.ensemble import (\n",
    "    AdaBoostClassifier,\n",
    "    GradientBoostingClassifier,\n",
    "    RandomForestClassifier,\n",
    "    BaggingClassifier,\n",
    ")\n",
    "from xgboost import XGBClassifier\n",
    "from xgboost import XGBRegressor\n",
    "\n",
    "# To get different metric scores, and split data\n",
    "from sklearn import metrics\n",
    "from sklearn.model_selection import train_test_split, StratifiedKFold, cross_val_score\n",
    "from sklearn.metrics import (\n",
    "    mean_squared_error,\n",
    "    f1_score,\n",
    "    accuracy_score,\n",
    "    recall_score,\n",
    "    precision_score,\n",
    "    confusion_matrix,\n",
    "    roc_auc_score,\n",
    "    plot_confusion_matrix,\n",
    ")\n",
    "\n",
    "# To be used for data scaling and one hot encoding\n",
    "from sklearn.preprocessing import StandardScaler, MinMaxScaler, OneHotEncoder\n",
    "\n",
    "# To be used for tuning the model\n",
    "from sklearn.model_selection import GridSearchCV, RandomizedSearchCV\n",
    "\n",
    "# To be used for creating pipelines and personalizing them\n",
    "from sklearn.pipeline import Pipeline\n",
    "from sklearn.compose import ColumnTransformer\n",
    "\n",
    "# To define maximum number of columns to be displayed in a dataframe\n",
    "pd.set_option(\"display.max_columns\", None)\n",
    "\n",
    "# To supress scientific notations for a dataframe\n",
    "pd.set_option(\"display.float_format\", lambda x: \"%.3f\" % x)\n",
    "\n",
    "# To supress warnings\n",
    "import warnings\n",
    "\n",
    "warnings.filterwarnings(\"ignore\")\n",
    "\n",
    "# This will help in making the Python code more structured automatically (good coding practice)\n",
    "%reload_ext nb_black"
   ]
  },
  {
   "cell_type": "code",
   "execution_count": 203,
   "id": "12e63b30",
   "metadata": {},
   "outputs": [
    {
     "data": {
      "text/plain": [
       "<bound method DataFrame.drop of                                 Datetime   PJME_MW  hour  dayofweek  quarter  \\\n",
       "Datetime                                                                       \n",
       "2002-12-31 01:00:00  2002-12-31 01:00:00 26498.000     1          1        4   \n",
       "2002-12-31 02:00:00  2002-12-31 02:00:00 25147.000     2          1        4   \n",
       "2002-12-31 03:00:00  2002-12-31 03:00:00 24574.000     3          1        4   \n",
       "2002-12-31 04:00:00  2002-12-31 04:00:00 24393.000     4          1        4   \n",
       "2002-12-31 05:00:00  2002-12-31 05:00:00 24860.000     5          1        4   \n",
       "...                                  ...       ...   ...        ...      ...   \n",
       "2018-01-01 20:00:00  2018-01-01 20:00:00 44284.000    20          0        1   \n",
       "2018-01-01 21:00:00  2018-01-01 21:00:00 43751.000    21          0        1   \n",
       "2018-01-01 22:00:00  2018-01-01 22:00:00 42402.000    22          0        1   \n",
       "2018-01-01 23:00:00  2018-01-01 23:00:00 40164.000    23          0        1   \n",
       "2018-01-02 00:00:00  2018-01-02 00:00:00 38608.000     0          1        1   \n",
       "\n",
       "                     month  year  dayofyear  \n",
       "Datetime                                     \n",
       "2002-12-31 01:00:00     12  2002        365  \n",
       "2002-12-31 02:00:00     12  2002        365  \n",
       "2002-12-31 03:00:00     12  2002        365  \n",
       "2002-12-31 04:00:00     12  2002        365  \n",
       "2002-12-31 05:00:00     12  2002        365  \n",
       "...                    ...   ...        ...  \n",
       "2018-01-01 20:00:00      1  2018          1  \n",
       "2018-01-01 21:00:00      1  2018          1  \n",
       "2018-01-01 22:00:00      1  2018          1  \n",
       "2018-01-01 23:00:00      1  2018          1  \n",
       "2018-01-02 00:00:00      1  2018          2  \n",
       "\n",
       "[145366 rows x 8 columns]>"
      ]
     },
     "execution_count": 203,
     "metadata": {},
     "output_type": "execute_result"
    },
    {
     "data": {
      "application/javascript": [
       "\n",
       "            setTimeout(function() {\n",
       "                var nbb_cell_id = 203;\n",
       "                var nbb_unformatted_code = \"df.drop\";\n",
       "                var nbb_formatted_code = \"df.drop\";\n",
       "                var nbb_cells = Jupyter.notebook.get_cells();\n",
       "                for (var i = 0; i < nbb_cells.length; ++i) {\n",
       "                    if (nbb_cells[i].input_prompt_number == nbb_cell_id) {\n",
       "                        if (nbb_cells[i].get_text() == nbb_unformatted_code) {\n",
       "                             nbb_cells[i].set_text(nbb_formatted_code);\n",
       "                        }\n",
       "                        break;\n",
       "                    }\n",
       "                }\n",
       "            }, 500);\n",
       "            "
      ],
      "text/plain": [
       "<IPython.core.display.Javascript object>"
      ]
     },
     "metadata": {},
     "output_type": "display_data"
    },
    {
     "data": {
      "application/javascript": [
       "\n",
       "            setTimeout(function() {\n",
       "                var nbb_cell_id = 203;\n",
       "                var nbb_unformatted_code = \"df.drop\";\n",
       "                var nbb_formatted_code = \"df.drop\";\n",
       "                var nbb_cells = Jupyter.notebook.get_cells();\n",
       "                for (var i = 0; i < nbb_cells.length; ++i) {\n",
       "                    if (nbb_cells[i].input_prompt_number == nbb_cell_id) {\n",
       "                        if (nbb_cells[i].get_text() == nbb_unformatted_code) {\n",
       "                             nbb_cells[i].set_text(nbb_formatted_code);\n",
       "                        }\n",
       "                        break;\n",
       "                    }\n",
       "                }\n",
       "            }, 500);\n",
       "            "
      ],
      "text/plain": [
       "<IPython.core.display.Javascript object>"
      ]
     },
     "metadata": {},
     "output_type": "display_data"
    }
   ],
   "source": [
    "df.drop"
   ]
  },
  {
   "cell_type": "code",
   "execution_count": 204,
   "id": "c3d5b3e4",
   "metadata": {},
   "outputs": [
    {
     "data": {
      "text/html": [
       "<div>\n",
       "<style scoped>\n",
       "    .dataframe tbody tr th:only-of-type {\n",
       "        vertical-align: middle;\n",
       "    }\n",
       "\n",
       "    .dataframe tbody tr th {\n",
       "        vertical-align: top;\n",
       "    }\n",
       "\n",
       "    .dataframe thead th {\n",
       "        text-align: right;\n",
       "    }\n",
       "</style>\n",
       "<table border=\"1\" class=\"dataframe\">\n",
       "  <thead>\n",
       "    <tr style=\"text-align: right;\">\n",
       "      <th></th>\n",
       "      <th>Datetime</th>\n",
       "      <th>PJME_MW</th>\n",
       "    </tr>\n",
       "  </thead>\n",
       "  <tbody>\n",
       "    <tr>\n",
       "      <th>0</th>\n",
       "      <td>2002-12-31 01:00:00</td>\n",
       "      <td>26498.000</td>\n",
       "    </tr>\n",
       "    <tr>\n",
       "      <th>1</th>\n",
       "      <td>2002-12-31 02:00:00</td>\n",
       "      <td>25147.000</td>\n",
       "    </tr>\n",
       "    <tr>\n",
       "      <th>2</th>\n",
       "      <td>2002-12-31 03:00:00</td>\n",
       "      <td>24574.000</td>\n",
       "    </tr>\n",
       "    <tr>\n",
       "      <th>3</th>\n",
       "      <td>2002-12-31 04:00:00</td>\n",
       "      <td>24393.000</td>\n",
       "    </tr>\n",
       "    <tr>\n",
       "      <th>4</th>\n",
       "      <td>2002-12-31 05:00:00</td>\n",
       "      <td>24860.000</td>\n",
       "    </tr>\n",
       "    <tr>\n",
       "      <th>...</th>\n",
       "      <td>...</td>\n",
       "      <td>...</td>\n",
       "    </tr>\n",
       "    <tr>\n",
       "      <th>145361</th>\n",
       "      <td>2018-01-01 20:00:00</td>\n",
       "      <td>44284.000</td>\n",
       "    </tr>\n",
       "    <tr>\n",
       "      <th>145362</th>\n",
       "      <td>2018-01-01 21:00:00</td>\n",
       "      <td>43751.000</td>\n",
       "    </tr>\n",
       "    <tr>\n",
       "      <th>145363</th>\n",
       "      <td>2018-01-01 22:00:00</td>\n",
       "      <td>42402.000</td>\n",
       "    </tr>\n",
       "    <tr>\n",
       "      <th>145364</th>\n",
       "      <td>2018-01-01 23:00:00</td>\n",
       "      <td>40164.000</td>\n",
       "    </tr>\n",
       "    <tr>\n",
       "      <th>145365</th>\n",
       "      <td>2018-01-02 00:00:00</td>\n",
       "      <td>38608.000</td>\n",
       "    </tr>\n",
       "  </tbody>\n",
       "</table>\n",
       "<p>145366 rows × 2 columns</p>\n",
       "</div>"
      ],
      "text/plain": [
       "                   Datetime   PJME_MW\n",
       "0       2002-12-31 01:00:00 26498.000\n",
       "1       2002-12-31 02:00:00 25147.000\n",
       "2       2002-12-31 03:00:00 24574.000\n",
       "3       2002-12-31 04:00:00 24393.000\n",
       "4       2002-12-31 05:00:00 24860.000\n",
       "...                     ...       ...\n",
       "145361  2018-01-01 20:00:00 44284.000\n",
       "145362  2018-01-01 21:00:00 43751.000\n",
       "145363  2018-01-01 22:00:00 42402.000\n",
       "145364  2018-01-01 23:00:00 40164.000\n",
       "145365  2018-01-02 00:00:00 38608.000\n",
       "\n",
       "[145366 rows x 2 columns]"
      ]
     },
     "execution_count": 204,
     "metadata": {},
     "output_type": "execute_result"
    },
    {
     "data": {
      "application/javascript": [
       "\n",
       "            setTimeout(function() {\n",
       "                var nbb_cell_id = 204;\n",
       "                var nbb_unformatted_code = \"# read data\\ndf = pd.read_csv(\\\"PJME_hourly.csv\\\")\\ndf\";\n",
       "                var nbb_formatted_code = \"# read data\\ndf = pd.read_csv(\\\"PJME_hourly.csv\\\")\\ndf\";\n",
       "                var nbb_cells = Jupyter.notebook.get_cells();\n",
       "                for (var i = 0; i < nbb_cells.length; ++i) {\n",
       "                    if (nbb_cells[i].input_prompt_number == nbb_cell_id) {\n",
       "                        if (nbb_cells[i].get_text() == nbb_unformatted_code) {\n",
       "                             nbb_cells[i].set_text(nbb_formatted_code);\n",
       "                        }\n",
       "                        break;\n",
       "                    }\n",
       "                }\n",
       "            }, 500);\n",
       "            "
      ],
      "text/plain": [
       "<IPython.core.display.Javascript object>"
      ]
     },
     "metadata": {},
     "output_type": "display_data"
    },
    {
     "data": {
      "application/javascript": [
       "\n",
       "            setTimeout(function() {\n",
       "                var nbb_cell_id = 204;\n",
       "                var nbb_unformatted_code = \"# read data\\ndf = pd.read_csv(\\\"PJME_hourly.csv\\\")\\ndf\";\n",
       "                var nbb_formatted_code = \"# read data\\ndf = pd.read_csv(\\\"PJME_hourly.csv\\\")\\ndf\";\n",
       "                var nbb_cells = Jupyter.notebook.get_cells();\n",
       "                for (var i = 0; i < nbb_cells.length; ++i) {\n",
       "                    if (nbb_cells[i].input_prompt_number == nbb_cell_id) {\n",
       "                        if (nbb_cells[i].get_text() == nbb_unformatted_code) {\n",
       "                             nbb_cells[i].set_text(nbb_formatted_code);\n",
       "                        }\n",
       "                        break;\n",
       "                    }\n",
       "                }\n",
       "            }, 500);\n",
       "            "
      ],
      "text/plain": [
       "<IPython.core.display.Javascript object>"
      ]
     },
     "metadata": {},
     "output_type": "display_data"
    }
   ],
   "source": [
    "# read data\n",
    "df = pd.read_csv(\"PJME_hourly.csv\")\n",
    "df"
   ]
  },
  {
   "cell_type": "code",
   "execution_count": 205,
   "id": "b27770b3",
   "metadata": {},
   "outputs": [
    {
     "data": {
      "text/plain": [
       "Datetime     object\n",
       "PJME_MW     float64\n",
       "dtype: object"
      ]
     },
     "execution_count": 205,
     "metadata": {},
     "output_type": "execute_result"
    },
    {
     "data": {
      "application/javascript": [
       "\n",
       "            setTimeout(function() {\n",
       "                var nbb_cell_id = 205;\n",
       "                var nbb_unformatted_code = \"# check datatype\\ndf.dtypes\";\n",
       "                var nbb_formatted_code = \"# check datatype\\ndf.dtypes\";\n",
       "                var nbb_cells = Jupyter.notebook.get_cells();\n",
       "                for (var i = 0; i < nbb_cells.length; ++i) {\n",
       "                    if (nbb_cells[i].input_prompt_number == nbb_cell_id) {\n",
       "                        if (nbb_cells[i].get_text() == nbb_unformatted_code) {\n",
       "                             nbb_cells[i].set_text(nbb_formatted_code);\n",
       "                        }\n",
       "                        break;\n",
       "                    }\n",
       "                }\n",
       "            }, 500);\n",
       "            "
      ],
      "text/plain": [
       "<IPython.core.display.Javascript object>"
      ]
     },
     "metadata": {},
     "output_type": "display_data"
    },
    {
     "data": {
      "application/javascript": [
       "\n",
       "            setTimeout(function() {\n",
       "                var nbb_cell_id = 205;\n",
       "                var nbb_unformatted_code = \"# check datatype\\ndf.dtypes\";\n",
       "                var nbb_formatted_code = \"# check datatype\\ndf.dtypes\";\n",
       "                var nbb_cells = Jupyter.notebook.get_cells();\n",
       "                for (var i = 0; i < nbb_cells.length; ++i) {\n",
       "                    if (nbb_cells[i].input_prompt_number == nbb_cell_id) {\n",
       "                        if (nbb_cells[i].get_text() == nbb_unformatted_code) {\n",
       "                             nbb_cells[i].set_text(nbb_formatted_code);\n",
       "                        }\n",
       "                        break;\n",
       "                    }\n",
       "                }\n",
       "            }, 500);\n",
       "            "
      ],
      "text/plain": [
       "<IPython.core.display.Javascript object>"
      ]
     },
     "metadata": {},
     "output_type": "display_data"
    }
   ],
   "source": [
    "# check datatype\n",
    "df.dtypes"
   ]
  },
  {
   "cell_type": "code",
   "execution_count": 206,
   "id": "06e8a3d6",
   "metadata": {},
   "outputs": [
    {
     "data": {
      "text/plain": [
       "DatetimeIndex(['2002-12-31 01:00:00', '2002-12-31 02:00:00',\n",
       "               '2002-12-31 03:00:00', '2002-12-31 04:00:00',\n",
       "               '2002-12-31 05:00:00', '2002-12-31 06:00:00',\n",
       "               '2002-12-31 07:00:00', '2002-12-31 08:00:00',\n",
       "               '2002-12-31 09:00:00', '2002-12-31 10:00:00',\n",
       "               ...\n",
       "               '2018-01-01 15:00:00', '2018-01-01 16:00:00',\n",
       "               '2018-01-01 17:00:00', '2018-01-01 18:00:00',\n",
       "               '2018-01-01 19:00:00', '2018-01-01 20:00:00',\n",
       "               '2018-01-01 21:00:00', '2018-01-01 22:00:00',\n",
       "               '2018-01-01 23:00:00', '2018-01-02 00:00:00'],\n",
       "              dtype='datetime64[ns]', name='Datetime', length=145366, freq=None)"
      ]
     },
     "execution_count": 206,
     "metadata": {},
     "output_type": "execute_result"
    },
    {
     "data": {
      "application/javascript": [
       "\n",
       "            setTimeout(function() {\n",
       "                var nbb_cell_id = 206;\n",
       "                var nbb_unformatted_code = \"# set index to be DateTime column\\ndf.set_index(\\\"Datetime\\\")\\n\\n# caste datetime column to date time from object\\ndf.index = pd.to_datetime(df[\\\"Datetime\\\"])\\ndf.index\";\n",
       "                var nbb_formatted_code = \"# set index to be DateTime column\\ndf.set_index(\\\"Datetime\\\")\\n\\n# caste datetime column to date time from object\\ndf.index = pd.to_datetime(df[\\\"Datetime\\\"])\\ndf.index\";\n",
       "                var nbb_cells = Jupyter.notebook.get_cells();\n",
       "                for (var i = 0; i < nbb_cells.length; ++i) {\n",
       "                    if (nbb_cells[i].input_prompt_number == nbb_cell_id) {\n",
       "                        if (nbb_cells[i].get_text() == nbb_unformatted_code) {\n",
       "                             nbb_cells[i].set_text(nbb_formatted_code);\n",
       "                        }\n",
       "                        break;\n",
       "                    }\n",
       "                }\n",
       "            }, 500);\n",
       "            "
      ],
      "text/plain": [
       "<IPython.core.display.Javascript object>"
      ]
     },
     "metadata": {},
     "output_type": "display_data"
    },
    {
     "data": {
      "application/javascript": [
       "\n",
       "            setTimeout(function() {\n",
       "                var nbb_cell_id = 206;\n",
       "                var nbb_unformatted_code = \"# set index to be DateTime column\\ndf.set_index(\\\"Datetime\\\")\\n\\n# caste datetime column to date time from object\\ndf.index = pd.to_datetime(df[\\\"Datetime\\\"])\\ndf.index\";\n",
       "                var nbb_formatted_code = \"# set index to be DateTime column\\ndf.set_index(\\\"Datetime\\\")\\n\\n# caste datetime column to date time from object\\ndf.index = pd.to_datetime(df[\\\"Datetime\\\"])\\ndf.index\";\n",
       "                var nbb_cells = Jupyter.notebook.get_cells();\n",
       "                for (var i = 0; i < nbb_cells.length; ++i) {\n",
       "                    if (nbb_cells[i].input_prompt_number == nbb_cell_id) {\n",
       "                        if (nbb_cells[i].get_text() == nbb_unformatted_code) {\n",
       "                             nbb_cells[i].set_text(nbb_formatted_code);\n",
       "                        }\n",
       "                        break;\n",
       "                    }\n",
       "                }\n",
       "            }, 500);\n",
       "            "
      ],
      "text/plain": [
       "<IPython.core.display.Javascript object>"
      ]
     },
     "metadata": {},
     "output_type": "display_data"
    }
   ],
   "source": [
    "# set index to be DateTime column\n",
    "df.set_index(\"Datetime\")\n",
    "\n",
    "# caste datetime column to date time from object\n",
    "df.index = pd.to_datetime(df[\"Datetime\"])\n",
    "df.index\n"
   ]
  },
  {
   "cell_type": "code",
   "execution_count": 207,
   "id": "01faa035",
   "metadata": {
    "scrolled": true
   },
   "outputs": [
    {
     "data": {
      "image/png": "[encoded data removed]",
      "text/plain": [
       "<Figure size 1080x360 with 1 Axes>"
      ]
     },
     "metadata": {
      "needs_background": "light"
     },
     "output_type": "display_data"
    },
    {
     "data": {
      "application/javascript": [
       "\n",
       "            setTimeout(function() {\n",
       "                var nbb_cell_id = 207;\n",
       "                var nbb_unformatted_code = \"# to visualize the data\\ndf.plot(\\n    style=\\\".\\\",\\n    figsize=(15, 5),\\n    color=color_pal[0],\\n    title=\\\"PJME Energy Consumption in MW\\\",\\n)\\nplt.show()\";\n",
       "                var nbb_formatted_code = \"# to visualize the data\\ndf.plot(\\n    style=\\\".\\\",\\n    figsize=(15, 5),\\n    color=color_pal[0],\\n    title=\\\"PJME Energy Consumption in MW\\\",\\n)\\nplt.show()\";\n",
       "                var nbb_cells = Jupyter.notebook.get_cells();\n",
       "                for (var i = 0; i < nbb_cells.length; ++i) {\n",
       "                    if (nbb_cells[i].input_prompt_number == nbb_cell_id) {\n",
       "                        if (nbb_cells[i].get_text() == nbb_unformatted_code) {\n",
       "                             nbb_cells[i].set_text(nbb_formatted_code);\n",
       "                        }\n",
       "                        break;\n",
       "                    }\n",
       "                }\n",
       "            }, 500);\n",
       "            "
      ],
      "text/plain": [
       "<IPython.core.display.Javascript object>"
      ]
     },
     "metadata": {},
     "output_type": "display_data"
    },
    {
     "data": {
      "application/javascript": [
       "\n",
       "            setTimeout(function() {\n",
       "                var nbb_cell_id = 207;\n",
       "                var nbb_unformatted_code = \"# to visualize the data\\ndf.plot(\\n    style=\\\".\\\",\\n    figsize=(15, 5),\\n    color=color_pal[0],\\n    title=\\\"PJME Energy Consumption in MW\\\",\\n)\\nplt.show()\";\n",
       "                var nbb_formatted_code = \"# to visualize the data\\ndf.plot(\\n    style=\\\".\\\",\\n    figsize=(15, 5),\\n    color=color_pal[0],\\n    title=\\\"PJME Energy Consumption in MW\\\",\\n)\\nplt.show()\";\n",
       "                var nbb_cells = Jupyter.notebook.get_cells();\n",
       "                for (var i = 0; i < nbb_cells.length; ++i) {\n",
       "                    if (nbb_cells[i].input_prompt_number == nbb_cell_id) {\n",
       "                        if (nbb_cells[i].get_text() == nbb_unformatted_code) {\n",
       "                             nbb_cells[i].set_text(nbb_formatted_code);\n",
       "                        }\n",
       "                        break;\n",
       "                    }\n",
       "                }\n",
       "            }, 500);\n",
       "            "
      ],
      "text/plain": [
       "<IPython.core.display.Javascript object>"
      ]
     },
     "metadata": {},
     "output_type": "display_data"
    }
   ],
   "source": [
    "# to visualize the data\n",
    "df.plot(\n",
    "    style=\".\",\n",
    "    figsize=(15, 5),\n",
    "    color=color_pal[0],\n",
    "    title=\"PJME Energy Consumption in MW\",\n",
    ")\n",
    "plt.show()"
   ]
  },
  {
   "cell_type": "code",
   "execution_count": 208,
   "id": "ee50f523",
   "metadata": {},
   "outputs": [
    {
     "data": {
      "application/javascript": [
       "\n",
       "            setTimeout(function() {\n",
       "                var nbb_cell_id = 208;\n",
       "                var nbb_unformatted_code = \"# locate all the data prior to 2015 as train data\\ntrain = df.loc[df.index < \\\"01-01-2015\\\"]\\n\\n# locate all the data after 2015 as test data\\ntest = df.loc[df.index >= \\\"01-01-2015\\\"]\";\n",
       "                var nbb_formatted_code = \"# locate all the data prior to 2015 as train data\\ntrain = df.loc[df.index < \\\"01-01-2015\\\"]\\n\\n# locate all the data after 2015 as test data\\ntest = df.loc[df.index >= \\\"01-01-2015\\\"]\";\n",
       "                var nbb_cells = Jupyter.notebook.get_cells();\n",
       "                for (var i = 0; i < nbb_cells.length; ++i) {\n",
       "                    if (nbb_cells[i].input_prompt_number == nbb_cell_id) {\n",
       "                        if (nbb_cells[i].get_text() == nbb_unformatted_code) {\n",
       "                             nbb_cells[i].set_text(nbb_formatted_code);\n",
       "                        }\n",
       "                        break;\n",
       "                    }\n",
       "                }\n",
       "            }, 500);\n",
       "            "
      ],
      "text/plain": [
       "<IPython.core.display.Javascript object>"
      ]
     },
     "metadata": {},
     "output_type": "display_data"
    },
    {
     "data": {
      "application/javascript": [
       "\n",
       "            setTimeout(function() {\n",
       "                var nbb_cell_id = 208;\n",
       "                var nbb_unformatted_code = \"# locate all the data prior to 2015 as train data\\ntrain = df.loc[df.index < \\\"01-01-2015\\\"]\\n\\n# locate all the data after 2015 as test data\\ntest = df.loc[df.index >= \\\"01-01-2015\\\"]\";\n",
       "                var nbb_formatted_code = \"# locate all the data prior to 2015 as train data\\ntrain = df.loc[df.index < \\\"01-01-2015\\\"]\\n\\n# locate all the data after 2015 as test data\\ntest = df.loc[df.index >= \\\"01-01-2015\\\"]\";\n",
       "                var nbb_cells = Jupyter.notebook.get_cells();\n",
       "                for (var i = 0; i < nbb_cells.length; ++i) {\n",
       "                    if (nbb_cells[i].input_prompt_number == nbb_cell_id) {\n",
       "                        if (nbb_cells[i].get_text() == nbb_unformatted_code) {\n",
       "                             nbb_cells[i].set_text(nbb_formatted_code);\n",
       "                        }\n",
       "                        break;\n",
       "                    }\n",
       "                }\n",
       "            }, 500);\n",
       "            "
      ],
      "text/plain": [
       "<IPython.core.display.Javascript object>"
      ]
     },
     "metadata": {},
     "output_type": "display_data"
    }
   ],
   "source": [
    "# locate all the data prior to 2015 as train data\n",
    "train = df.loc[df.index < \"01-01-2015\"]\n",
    "\n",
    "# locate all the data after 2015 as test data\n",
    "test = df.loc[df.index >= \"01-01-2015\"]"
   ]
  },
  {
   "cell_type": "code",
   "execution_count": 209,
   "id": "4e40d1ba",
   "metadata": {},
   "outputs": [
    {
     "data": {
      "image/png": "[encoded data removed]",
      "text/plain": [
       "<Figure size 1080x360 with 1 Axes>"
      ]
     },
     "metadata": {
      "needs_background": "light"
     },
     "output_type": "display_data"
    },
    {
     "data": {
      "application/javascript": [
       "\n",
       "            setTimeout(function() {\n",
       "                var nbb_cell_id = 209;\n",
       "                var nbb_unformatted_code = \"# to plot the train and test data\\nfig, ax = plt.subplots(figsize=(15, 5))\\n\\ntrain.plot(ax=ax, label=\\\"Training set\\\")\\ntest.plot(ax=ax, label=\\\"Testing set\\\")\\nax.axvline(\\\"01-01-2015\\\", color=\\\"black\\\", ls=\\\"--\\\")\\nax.legend([\\\"Train Set\\\", \\\"Test Set\\\"])\\nplt.show()\";\n",
       "                var nbb_formatted_code = \"# to plot the train and test data\\nfig, ax = plt.subplots(figsize=(15, 5))\\n\\ntrain.plot(ax=ax, label=\\\"Training set\\\")\\ntest.plot(ax=ax, label=\\\"Testing set\\\")\\nax.axvline(\\\"01-01-2015\\\", color=\\\"black\\\", ls=\\\"--\\\")\\nax.legend([\\\"Train Set\\\", \\\"Test Set\\\"])\\nplt.show()\";\n",
       "                var nbb_cells = Jupyter.notebook.get_cells();\n",
       "                for (var i = 0; i < nbb_cells.length; ++i) {\n",
       "                    if (nbb_cells[i].input_prompt_number == nbb_cell_id) {\n",
       "                        if (nbb_cells[i].get_text() == nbb_unformatted_code) {\n",
       "                             nbb_cells[i].set_text(nbb_formatted_code);\n",
       "                        }\n",
       "                        break;\n",
       "                    }\n",
       "                }\n",
       "            }, 500);\n",
       "            "
      ],
      "text/plain": [
       "<IPython.core.display.Javascript object>"
      ]
     },
     "metadata": {},
     "output_type": "display_data"
    },
    {
     "data": {
      "application/javascript": [
       "\n",
       "            setTimeout(function() {\n",
       "                var nbb_cell_id = 209;\n",
       "                var nbb_unformatted_code = \"# to plot the train and test data\\nfig, ax = plt.subplots(figsize=(15, 5))\\n\\ntrain.plot(ax=ax, label=\\\"Training set\\\")\\ntest.plot(ax=ax, label=\\\"Testing set\\\")\\nax.axvline(\\\"01-01-2015\\\", color=\\\"black\\\", ls=\\\"--\\\")\\nax.legend([\\\"Train Set\\\", \\\"Test Set\\\"])\\nplt.show()\";\n",
       "                var nbb_formatted_code = \"# to plot the train and test data\\nfig, ax = plt.subplots(figsize=(15, 5))\\n\\ntrain.plot(ax=ax, label=\\\"Training set\\\")\\ntest.plot(ax=ax, label=\\\"Testing set\\\")\\nax.axvline(\\\"01-01-2015\\\", color=\\\"black\\\", ls=\\\"--\\\")\\nax.legend([\\\"Train Set\\\", \\\"Test Set\\\"])\\nplt.show()\";\n",
       "                var nbb_cells = Jupyter.notebook.get_cells();\n",
       "                for (var i = 0; i < nbb_cells.length; ++i) {\n",
       "                    if (nbb_cells[i].input_prompt_number == nbb_cell_id) {\n",
       "                        if (nbb_cells[i].get_text() == nbb_unformatted_code) {\n",
       "                             nbb_cells[i].set_text(nbb_formatted_code);\n",
       "                        }\n",
       "                        break;\n",
       "                    }\n",
       "                }\n",
       "            }, 500);\n",
       "            "
      ],
      "text/plain": [
       "<IPython.core.display.Javascript object>"
      ]
     },
     "metadata": {},
     "output_type": "display_data"
    }
   ],
   "source": [
    "# to plot the train and test data\n",
    "fig, ax = plt.subplots(figsize=(15, 5))\n",
    "\n",
    "train.plot(ax=ax, label=\"Training set\")\n",
    "test.plot(ax=ax, label=\"Testing set\")\n",
    "ax.axvline(\"01-01-2015\", color=\"black\", ls=\"--\")\n",
    "ax.legend([\"Train Set\", \"Test Set\"])\n",
    "plt.show()"
   ]
  },
  {
   "cell_type": "code",
   "execution_count": 210,
   "id": "a5426833",
   "metadata": {},
   "outputs": [
    {
     "data": {
      "image/png": "[encoded data removed]",
      "text/plain": [
       "<Figure size 1080x360 with 1 Axes>"
      ]
     },
     "metadata": {
      "needs_background": "light"
     },
     "output_type": "display_data"
    },
    {
     "data": {
      "application/javascript": [
       "\n",
       "            setTimeout(function() {\n",
       "                var nbb_cell_id = 210;\n",
       "                var nbb_unformatted_code = \"# to get an idea of what one single week looks like\\ndf.loc[(df.index > \\\"01-01-2010\\\") & (df.index < \\\"01-08-2010\\\")].plot(\\n    figsize=(15, 5), title=\\\"Week of Data\\\"\\n)\\nplt.show()\";\n",
       "                var nbb_formatted_code = \"# to get an idea of what one single week looks like\\ndf.loc[(df.index > \\\"01-01-2010\\\") & (df.index < \\\"01-08-2010\\\")].plot(\\n    figsize=(15, 5), title=\\\"Week of Data\\\"\\n)\\nplt.show()\";\n",
       "                var nbb_cells = Jupyter.notebook.get_cells();\n",
       "                for (var i = 0; i < nbb_cells.length; ++i) {\n",
       "                    if (nbb_cells[i].input_prompt_number == nbb_cell_id) {\n",
       "                        if (nbb_cells[i].get_text() == nbb_unformatted_code) {\n",
       "                             nbb_cells[i].set_text(nbb_formatted_code);\n",
       "                        }\n",
       "                        break;\n",
       "                    }\n",
       "                }\n",
       "            }, 500);\n",
       "            "
      ],
      "text/plain": [
       "<IPython.core.display.Javascript object>"
      ]
     },
     "metadata": {},
     "output_type": "display_data"
    },
    {
     "data": {
      "application/javascript": [
       "\n",
       "            setTimeout(function() {\n",
       "                var nbb_cell_id = 210;\n",
       "                var nbb_unformatted_code = \"# to get an idea of what one single week looks like\\ndf.loc[(df.index > \\\"01-01-2010\\\") & (df.index < \\\"01-08-2010\\\")].plot(\\n    figsize=(15, 5), title=\\\"Week of Data\\\"\\n)\\nplt.show()\";\n",
       "                var nbb_formatted_code = \"# to get an idea of what one single week looks like\\ndf.loc[(df.index > \\\"01-01-2010\\\") & (df.index < \\\"01-08-2010\\\")].plot(\\n    figsize=(15, 5), title=\\\"Week of Data\\\"\\n)\\nplt.show()\";\n",
       "                var nbb_cells = Jupyter.notebook.get_cells();\n",
       "                for (var i = 0; i < nbb_cells.length; ++i) {\n",
       "                    if (nbb_cells[i].input_prompt_number == nbb_cell_id) {\n",
       "                        if (nbb_cells[i].get_text() == nbb_unformatted_code) {\n",
       "                             nbb_cells[i].set_text(nbb_formatted_code);\n",
       "                        }\n",
       "                        break;\n",
       "                    }\n",
       "                }\n",
       "            }, 500);\n",
       "            "
      ],
      "text/plain": [
       "<IPython.core.display.Javascript object>"
      ]
     },
     "metadata": {},
     "output_type": "display_data"
    }
   ],
   "source": [
    "# to get an idea of what one single week looks like\n",
    "df.loc[(df.index > \"01-01-2010\") & (df.index < \"01-08-2010\")].plot(\n",
    "    figsize=(15, 5), title=\"Week of Data\"\n",
    ")\n",
    "plt.show()"
   ]
  },
  {
   "cell_type": "code",
   "execution_count": 211,
   "id": "e891cd1c",
   "metadata": {},
   "outputs": [
    {
     "data": {
      "application/javascript": [
       "\n",
       "            setTimeout(function() {\n",
       "                var nbb_cell_id = 211;\n",
       "                var nbb_unformatted_code = \"# Feature Creation using time series index\\n\\n\\ndef create_features(df):\\n    \\\"Create features based on time series index\\\"\\n    df = df.copy()\\n    df[\\\"hour\\\"] = df.index.hour\\n    df[\\\"dayofweek\\\"] = df.index.dayofweek\\n    df[\\\"quarter\\\"] = df.index.quarter\\n    df[\\\"month\\\"] = df.index.month\\n    df[\\\"year\\\"] = df.index.year\\n    df[\\\"dayofyear\\\"] = df.index.dayofyear\\n    return df\";\n",
       "                var nbb_formatted_code = \"# Feature Creation using time series index\\n\\n\\ndef create_features(df):\\n    \\\"Create features based on time series index\\\"\\n    df = df.copy()\\n    df[\\\"hour\\\"] = df.index.hour\\n    df[\\\"dayofweek\\\"] = df.index.dayofweek\\n    df[\\\"quarter\\\"] = df.index.quarter\\n    df[\\\"month\\\"] = df.index.month\\n    df[\\\"year\\\"] = df.index.year\\n    df[\\\"dayofyear\\\"] = df.index.dayofyear\\n    return df\";\n",
       "                var nbb_cells = Jupyter.notebook.get_cells();\n",
       "                for (var i = 0; i < nbb_cells.length; ++i) {\n",
       "                    if (nbb_cells[i].input_prompt_number == nbb_cell_id) {\n",
       "                        if (nbb_cells[i].get_text() == nbb_unformatted_code) {\n",
       "                             nbb_cells[i].set_text(nbb_formatted_code);\n",
       "                        }\n",
       "                        break;\n",
       "                    }\n",
       "                }\n",
       "            }, 500);\n",
       "            "
      ],
      "text/plain": [
       "<IPython.core.display.Javascript object>"
      ]
     },
     "metadata": {},
     "output_type": "display_data"
    },
    {
     "data": {
      "application/javascript": [
       "\n",
       "            setTimeout(function() {\n",
       "                var nbb_cell_id = 211;\n",
       "                var nbb_unformatted_code = \"# Feature Creation using time series index\\n\\n\\ndef create_features(df):\\n    \\\"Create features based on time series index\\\"\\n    df = df.copy()\\n    df[\\\"hour\\\"] = df.index.hour\\n    df[\\\"dayofweek\\\"] = df.index.dayofweek\\n    df[\\\"quarter\\\"] = df.index.quarter\\n    df[\\\"month\\\"] = df.index.month\\n    df[\\\"year\\\"] = df.index.year\\n    df[\\\"dayofyear\\\"] = df.index.dayofyear\\n    return df\";\n",
       "                var nbb_formatted_code = \"# Feature Creation using time series index\\n\\n\\ndef create_features(df):\\n    \\\"Create features based on time series index\\\"\\n    df = df.copy()\\n    df[\\\"hour\\\"] = df.index.hour\\n    df[\\\"dayofweek\\\"] = df.index.dayofweek\\n    df[\\\"quarter\\\"] = df.index.quarter\\n    df[\\\"month\\\"] = df.index.month\\n    df[\\\"year\\\"] = df.index.year\\n    df[\\\"dayofyear\\\"] = df.index.dayofyear\\n    return df\";\n",
       "                var nbb_cells = Jupyter.notebook.get_cells();\n",
       "                for (var i = 0; i < nbb_cells.length; ++i) {\n",
       "                    if (nbb_cells[i].input_prompt_number == nbb_cell_id) {\n",
       "                        if (nbb_cells[i].get_text() == nbb_unformatted_code) {\n",
       "                             nbb_cells[i].set_text(nbb_formatted_code);\n",
       "                        }\n",
       "                        break;\n",
       "                    }\n",
       "                }\n",
       "            }, 500);\n",
       "            "
      ],
      "text/plain": [
       "<IPython.core.display.Javascript object>"
      ]
     },
     "metadata": {},
     "output_type": "display_data"
    }
   ],
   "source": [
    "# Feature Creation using time series index\n",
    "\n",
    "\n",
    "def create_features(df):\n",
    "    \"Create features based on time series index\"\n",
    "    df = df.copy()\n",
    "    df[\"hour\"] = df.index.hour\n",
    "    df[\"dayofweek\"] = df.index.dayofweek\n",
    "    df[\"quarter\"] = df.index.quarter\n",
    "    df[\"month\"] = df.index.month\n",
    "    df[\"year\"] = df.index.year\n",
    "    df[\"dayofyear\"] = df.index.dayofyear\n",
    "    return df\n"
   ]
  },
  {
   "cell_type": "code",
   "execution_count": 212,
   "id": "4337d3c4",
   "metadata": {},
   "outputs": [
    {
     "data": {
      "application/javascript": [
       "\n",
       "            setTimeout(function() {\n",
       "                var nbb_cell_id = 212;\n",
       "                var nbb_unformatted_code = \"df = create_features(df)\";\n",
       "                var nbb_formatted_code = \"df = create_features(df)\";\n",
       "                var nbb_cells = Jupyter.notebook.get_cells();\n",
       "                for (var i = 0; i < nbb_cells.length; ++i) {\n",
       "                    if (nbb_cells[i].input_prompt_number == nbb_cell_id) {\n",
       "                        if (nbb_cells[i].get_text() == nbb_unformatted_code) {\n",
       "                             nbb_cells[i].set_text(nbb_formatted_code);\n",
       "                        }\n",
       "                        break;\n",
       "                    }\n",
       "                }\n",
       "            }, 500);\n",
       "            "
      ],
      "text/plain": [
       "<IPython.core.display.Javascript object>"
      ]
     },
     "metadata": {},
     "output_type": "display_data"
    },
    {
     "data": {
      "application/javascript": [
       "\n",
       "            setTimeout(function() {\n",
       "                var nbb_cell_id = 212;\n",
       "                var nbb_unformatted_code = \"df = create_features(df)\";\n",
       "                var nbb_formatted_code = \"df = create_features(df)\";\n",
       "                var nbb_cells = Jupyter.notebook.get_cells();\n",
       "                for (var i = 0; i < nbb_cells.length; ++i) {\n",
       "                    if (nbb_cells[i].input_prompt_number == nbb_cell_id) {\n",
       "                        if (nbb_cells[i].get_text() == nbb_unformatted_code) {\n",
       "                             nbb_cells[i].set_text(nbb_formatted_code);\n",
       "                        }\n",
       "                        break;\n",
       "                    }\n",
       "                }\n",
       "            }, 500);\n",
       "            "
      ],
      "text/plain": [
       "<IPython.core.display.Javascript object>"
      ]
     },
     "metadata": {},
     "output_type": "display_data"
    }
   ],
   "source": [
    "df = create_features(df)"
   ]
  },
  {
   "cell_type": "code",
   "execution_count": 213,
   "id": "77cb7a2b",
   "metadata": {},
   "outputs": [
    {
     "data": {
      "image/png": "[encoded data removed]",
      "text/plain": [
       "<Figure size 720x576 with 1 Axes>"
      ]
     },
     "metadata": {
      "needs_background": "light"
     },
     "output_type": "display_data"
    },
    {
     "data": {
      "application/javascript": [
       "\n",
       "            setTimeout(function() {\n",
       "                var nbb_cell_id = 213;\n",
       "                var nbb_unformatted_code = \"# Visualise feature/target relationship for hourly use\\nfig, ax = plt.subplots(figsize=(10, 8))\\nsns.boxplot(data=df, x=\\\"hour\\\", y=\\\"PJME_MW\\\")\\nax.set_title(\\\"MW by Hour\\\")\\nplt.show()\";\n",
       "                var nbb_formatted_code = \"# Visualise feature/target relationship for hourly use\\nfig, ax = plt.subplots(figsize=(10, 8))\\nsns.boxplot(data=df, x=\\\"hour\\\", y=\\\"PJME_MW\\\")\\nax.set_title(\\\"MW by Hour\\\")\\nplt.show()\";\n",
       "                var nbb_cells = Jupyter.notebook.get_cells();\n",
       "                for (var i = 0; i < nbb_cells.length; ++i) {\n",
       "                    if (nbb_cells[i].input_prompt_number == nbb_cell_id) {\n",
       "                        if (nbb_cells[i].get_text() == nbb_unformatted_code) {\n",
       "                             nbb_cells[i].set_text(nbb_formatted_code);\n",
       "                        }\n",
       "                        break;\n",
       "                    }\n",
       "                }\n",
       "            }, 500);\n",
       "            "
      ],
      "text/plain": [
       "<IPython.core.display.Javascript object>"
      ]
     },
     "metadata": {},
     "output_type": "display_data"
    },
    {
     "data": {
      "application/javascript": [
       "\n",
       "            setTimeout(function() {\n",
       "                var nbb_cell_id = 213;\n",
       "                var nbb_unformatted_code = \"# Visualise feature/target relationship for hourly use\\nfig, ax = plt.subplots(figsize=(10, 8))\\nsns.boxplot(data=df, x=\\\"hour\\\", y=\\\"PJME_MW\\\")\\nax.set_title(\\\"MW by Hour\\\")\\nplt.show()\";\n",
       "                var nbb_formatted_code = \"# Visualise feature/target relationship for hourly use\\nfig, ax = plt.subplots(figsize=(10, 8))\\nsns.boxplot(data=df, x=\\\"hour\\\", y=\\\"PJME_MW\\\")\\nax.set_title(\\\"MW by Hour\\\")\\nplt.show()\";\n",
       "                var nbb_cells = Jupyter.notebook.get_cells();\n",
       "                for (var i = 0; i < nbb_cells.length; ++i) {\n",
       "                    if (nbb_cells[i].input_prompt_number == nbb_cell_id) {\n",
       "                        if (nbb_cells[i].get_text() == nbb_unformatted_code) {\n",
       "                             nbb_cells[i].set_text(nbb_formatted_code);\n",
       "                        }\n",
       "                        break;\n",
       "                    }\n",
       "                }\n",
       "            }, 500);\n",
       "            "
      ],
      "text/plain": [
       "<IPython.core.display.Javascript object>"
      ]
     },
     "metadata": {},
     "output_type": "display_data"
    }
   ],
   "source": [
    "# Visualise feature/target relationship for hourly use\n",
    "fig, ax = plt.subplots(figsize=(10, 8))\n",
    "sns.boxplot(data=df, x=\"hour\", y=\"PJME_MW\")\n",
    "ax.set_title(\"MW by Hour\")\n",
    "plt.show()"
   ]
  },
  {
   "cell_type": "code",
   "execution_count": 214,
   "id": "6d21d4a8",
   "metadata": {},
   "outputs": [
    {
     "data": {
      "image/png": "[encoded data removed]",
      "text/plain": [
       "<Figure size 720x576 with 1 Axes>"
      ]
     },
     "metadata": {
      "needs_background": "light"
     },
     "output_type": "display_data"
    },
    {
     "data": {
      "application/javascript": [
       "\n",
       "            setTimeout(function() {\n",
       "                var nbb_cell_id = 214;\n",
       "                var nbb_unformatted_code = \"# Visualise feature/target relationship for monthly use\\nfig, ax = plt.subplots(figsize=(10, 8))\\nsns.boxplot(data=df, x=\\\"month\\\", y=\\\"PJME_MW\\\", palette=\\\"Blues\\\")\\nax.set_title(\\\"MW by month\\\")\\nplt.show()\";\n",
       "                var nbb_formatted_code = \"# Visualise feature/target relationship for monthly use\\nfig, ax = plt.subplots(figsize=(10, 8))\\nsns.boxplot(data=df, x=\\\"month\\\", y=\\\"PJME_MW\\\", palette=\\\"Blues\\\")\\nax.set_title(\\\"MW by month\\\")\\nplt.show()\";\n",
       "                var nbb_cells = Jupyter.notebook.get_cells();\n",
       "                for (var i = 0; i < nbb_cells.length; ++i) {\n",
       "                    if (nbb_cells[i].input_prompt_number == nbb_cell_id) {\n",
       "                        if (nbb_cells[i].get_text() == nbb_unformatted_code) {\n",
       "                             nbb_cells[i].set_text(nbb_formatted_code);\n",
       "                        }\n",
       "                        break;\n",
       "                    }\n",
       "                }\n",
       "            }, 500);\n",
       "            "
      ],
      "text/plain": [
       "<IPython.core.display.Javascript object>"
      ]
     },
     "metadata": {},
     "output_type": "display_data"
    },
    {
     "data": {
      "application/javascript": [
       "\n",
       "            setTimeout(function() {\n",
       "                var nbb_cell_id = 214;\n",
       "                var nbb_unformatted_code = \"# Visualise feature/target relationship for monthly use\\nfig, ax = plt.subplots(figsize=(10, 8))\\nsns.boxplot(data=df, x=\\\"month\\\", y=\\\"PJME_MW\\\", palette=\\\"Blues\\\")\\nax.set_title(\\\"MW by month\\\")\\nplt.show()\";\n",
       "                var nbb_formatted_code = \"# Visualise feature/target relationship for monthly use\\nfig, ax = plt.subplots(figsize=(10, 8))\\nsns.boxplot(data=df, x=\\\"month\\\", y=\\\"PJME_MW\\\", palette=\\\"Blues\\\")\\nax.set_title(\\\"MW by month\\\")\\nplt.show()\";\n",
       "                var nbb_cells = Jupyter.notebook.get_cells();\n",
       "                for (var i = 0; i < nbb_cells.length; ++i) {\n",
       "                    if (nbb_cells[i].input_prompt_number == nbb_cell_id) {\n",
       "                        if (nbb_cells[i].get_text() == nbb_unformatted_code) {\n",
       "                             nbb_cells[i].set_text(nbb_formatted_code);\n",
       "                        }\n",
       "                        break;\n",
       "                    }\n",
       "                }\n",
       "            }, 500);\n",
       "            "
      ],
      "text/plain": [
       "<IPython.core.display.Javascript object>"
      ]
     },
     "metadata": {},
     "output_type": "display_data"
    }
   ],
   "source": [
    "# Visualise feature/target relationship for monthly use\n",
    "fig, ax = plt.subplots(figsize=(10, 8))\n",
    "sns.boxplot(data=df, x=\"month\", y=\"PJME_MW\", palette=\"Blues\")\n",
    "ax.set_title(\"MW by month\")\n",
    "plt.show()"
   ]
  },
  {
   "cell_type": "code",
   "execution_count": 215,
   "id": "add85cad",
   "metadata": {},
   "outputs": [
    {
     "data": {
      "application/javascript": [
       "\n",
       "            setTimeout(function() {\n",
       "                var nbb_cell_id = 215;\n",
       "                var nbb_unformatted_code = \"# run the create features function on the train and test data\\ntrain = create_features(train)\\ntest = create_features(test)\";\n",
       "                var nbb_formatted_code = \"# run the create features function on the train and test data\\ntrain = create_features(train)\\ntest = create_features(test)\";\n",
       "                var nbb_cells = Jupyter.notebook.get_cells();\n",
       "                for (var i = 0; i < nbb_cells.length; ++i) {\n",
       "                    if (nbb_cells[i].input_prompt_number == nbb_cell_id) {\n",
       "                        if (nbb_cells[i].get_text() == nbb_unformatted_code) {\n",
       "                             nbb_cells[i].set_text(nbb_formatted_code);\n",
       "                        }\n",
       "                        break;\n",
       "                    }\n",
       "                }\n",
       "            }, 500);\n",
       "            "
      ],
      "text/plain": [
       "<IPython.core.display.Javascript object>"
      ]
     },
     "metadata": {},
     "output_type": "display_data"
    },
    {
     "data": {
      "application/javascript": [
       "\n",
       "            setTimeout(function() {\n",
       "                var nbb_cell_id = 215;\n",
       "                var nbb_unformatted_code = \"# run the create features function on the train and test data\\ntrain = create_features(train)\\ntest = create_features(test)\";\n",
       "                var nbb_formatted_code = \"# run the create features function on the train and test data\\ntrain = create_features(train)\\ntest = create_features(test)\";\n",
       "                var nbb_cells = Jupyter.notebook.get_cells();\n",
       "                for (var i = 0; i < nbb_cells.length; ++i) {\n",
       "                    if (nbb_cells[i].input_prompt_number == nbb_cell_id) {\n",
       "                        if (nbb_cells[i].get_text() == nbb_unformatted_code) {\n",
       "                             nbb_cells[i].set_text(nbb_formatted_code);\n",
       "                        }\n",
       "                        break;\n",
       "                    }\n",
       "                }\n",
       "            }, 500);\n",
       "            "
      ],
      "text/plain": [
       "<IPython.core.display.Javascript object>"
      ]
     },
     "metadata": {},
     "output_type": "display_data"
    }
   ],
   "source": [
    "# run the create features function on the train and test data\n",
    "train = create_features(train)\n",
    "test = create_features(test)"
   ]
  },
  {
   "cell_type": "code",
   "execution_count": 216,
   "id": "d2874f4c",
   "metadata": {},
   "outputs": [
    {
     "data": {
      "text/plain": [
       "Index(['Datetime', 'PJME_MW', 'hour', 'dayofweek', 'quarter', 'month', 'year',\n",
       "       'dayofyear'],\n",
       "      dtype='object')"
      ]
     },
     "execution_count": 216,
     "metadata": {},
     "output_type": "execute_result"
    },
    {
     "data": {
      "application/javascript": [
       "\n",
       "            setTimeout(function() {\n",
       "                var nbb_cell_id = 216;\n",
       "                var nbb_unformatted_code = \"df.columns\";\n",
       "                var nbb_formatted_code = \"df.columns\";\n",
       "                var nbb_cells = Jupyter.notebook.get_cells();\n",
       "                for (var i = 0; i < nbb_cells.length; ++i) {\n",
       "                    if (nbb_cells[i].input_prompt_number == nbb_cell_id) {\n",
       "                        if (nbb_cells[i].get_text() == nbb_unformatted_code) {\n",
       "                             nbb_cells[i].set_text(nbb_formatted_code);\n",
       "                        }\n",
       "                        break;\n",
       "                    }\n",
       "                }\n",
       "            }, 500);\n",
       "            "
      ],
      "text/plain": [
       "<IPython.core.display.Javascript object>"
      ]
     },
     "metadata": {},
     "output_type": "display_data"
    },
    {
     "data": {
      "application/javascript": [
       "\n",
       "            setTimeout(function() {\n",
       "                var nbb_cell_id = 216;\n",
       "                var nbb_unformatted_code = \"df.columns\";\n",
       "                var nbb_formatted_code = \"df.columns\";\n",
       "                var nbb_cells = Jupyter.notebook.get_cells();\n",
       "                for (var i = 0; i < nbb_cells.length; ++i) {\n",
       "                    if (nbb_cells[i].input_prompt_number == nbb_cell_id) {\n",
       "                        if (nbb_cells[i].get_text() == nbb_unformatted_code) {\n",
       "                             nbb_cells[i].set_text(nbb_formatted_code);\n",
       "                        }\n",
       "                        break;\n",
       "                    }\n",
       "                }\n",
       "            }, 500);\n",
       "            "
      ],
      "text/plain": [
       "<IPython.core.display.Javascript object>"
      ]
     },
     "metadata": {},
     "output_type": "display_data"
    }
   ],
   "source": [
    "df.columns"
   ]
  },
  {
   "cell_type": "code",
   "execution_count": 223,
   "id": "86edb617",
   "metadata": {},
   "outputs": [
    {
     "data": {
      "application/javascript": [
       "\n",
       "            setTimeout(function() {\n",
       "                var nbb_cell_id = 223;\n",
       "                var nbb_unformatted_code = \"# Create features and target variables, X and y respectively\\nFEATURES = ['hour', 'dayofweek', 'quarter', 'month', 'year',\\n       'dayofyear']\\nTARGET = [\\\"PJME_MW\\\"]\";\n",
       "                var nbb_formatted_code = \"# Create features and target variables, X and y respectively\\nFEATURES = [\\\"hour\\\", \\\"dayofweek\\\", \\\"quarter\\\", \\\"month\\\", \\\"year\\\", \\\"dayofyear\\\"]\\nTARGET = [\\\"PJME_MW\\\"]\";\n",
       "                var nbb_cells = Jupyter.notebook.get_cells();\n",
       "                for (var i = 0; i < nbb_cells.length; ++i) {\n",
       "                    if (nbb_cells[i].input_prompt_number == nbb_cell_id) {\n",
       "                        if (nbb_cells[i].get_text() == nbb_unformatted_code) {\n",
       "                             nbb_cells[i].set_text(nbb_formatted_code);\n",
       "                        }\n",
       "                        break;\n",
       "                    }\n",
       "                }\n",
       "            }, 500);\n",
       "            "
      ],
      "text/plain": [
       "<IPython.core.display.Javascript object>"
      ]
     },
     "metadata": {},
     "output_type": "display_data"
    },
    {
     "data": {
      "application/javascript": [
       "\n",
       "            setTimeout(function() {\n",
       "                var nbb_cell_id = 223;\n",
       "                var nbb_unformatted_code = \"# Create features and target variables, X and y respectively\\nFEATURES = ['hour', 'dayofweek', 'quarter', 'month', 'year',\\n       'dayofyear']\\nTARGET = [\\\"PJME_MW\\\"]\";\n",
       "                var nbb_formatted_code = \"# Create features and target variables, X and y respectively\\nFEATURES = [\\\"hour\\\", \\\"dayofweek\\\", \\\"quarter\\\", \\\"month\\\", \\\"year\\\", \\\"dayofyear\\\"]\\nTARGET = [\\\"PJME_MW\\\"]\";\n",
       "                var nbb_cells = Jupyter.notebook.get_cells();\n",
       "                for (var i = 0; i < nbb_cells.length; ++i) {\n",
       "                    if (nbb_cells[i].input_prompt_number == nbb_cell_id) {\n",
       "                        if (nbb_cells[i].get_text() == nbb_unformatted_code) {\n",
       "                             nbb_cells[i].set_text(nbb_formatted_code);\n",
       "                        }\n",
       "                        break;\n",
       "                    }\n",
       "                }\n",
       "            }, 500);\n",
       "            "
      ],
      "text/plain": [
       "<IPython.core.display.Javascript object>"
      ]
     },
     "metadata": {},
     "output_type": "display_data"
    }
   ],
   "source": [
    "# Create features and target variables, X and y respectively\n",
    "FEATURES = ['hour', 'dayofweek', 'quarter', 'month', 'year',\n",
    "       'dayofyear']\n",
    "TARGET = [\"PJME_MW\"]\n"
   ]
  },
  {
   "cell_type": "code",
   "execution_count": 224,
   "id": "7a241bf0",
   "metadata": {},
   "outputs": [
    {
     "data": {
      "text/html": [
       "<div>\n",
       "<style scoped>\n",
       "    .dataframe tbody tr th:only-of-type {\n",
       "        vertical-align: middle;\n",
       "    }\n",
       "\n",
       "    .dataframe tbody tr th {\n",
       "        vertical-align: top;\n",
       "    }\n",
       "\n",
       "    .dataframe thead th {\n",
       "        text-align: right;\n",
       "    }\n",
       "</style>\n",
       "<table border=\"1\" class=\"dataframe\">\n",
       "  <thead>\n",
       "    <tr style=\"text-align: right;\">\n",
       "      <th></th>\n",
       "      <th>Datetime</th>\n",
       "      <th>PJME_MW</th>\n",
       "      <th>hour</th>\n",
       "      <th>dayofweek</th>\n",
       "      <th>quarter</th>\n",
       "      <th>month</th>\n",
       "      <th>year</th>\n",
       "      <th>dayofyear</th>\n",
       "    </tr>\n",
       "    <tr>\n",
       "      <th>Datetime</th>\n",
       "      <th></th>\n",
       "      <th></th>\n",
       "      <th></th>\n",
       "      <th></th>\n",
       "      <th></th>\n",
       "      <th></th>\n",
       "      <th></th>\n",
       "      <th></th>\n",
       "    </tr>\n",
       "  </thead>\n",
       "  <tbody>\n",
       "    <tr>\n",
       "      <th>2002-12-31 01:00:00</th>\n",
       "      <td>2002-12-31 01:00:00</td>\n",
       "      <td>26498.000</td>\n",
       "      <td>1</td>\n",
       "      <td>1</td>\n",
       "      <td>4</td>\n",
       "      <td>12</td>\n",
       "      <td>2002</td>\n",
       "      <td>365</td>\n",
       "    </tr>\n",
       "    <tr>\n",
       "      <th>2002-12-31 02:00:00</th>\n",
       "      <td>2002-12-31 02:00:00</td>\n",
       "      <td>25147.000</td>\n",
       "      <td>2</td>\n",
       "      <td>1</td>\n",
       "      <td>4</td>\n",
       "      <td>12</td>\n",
       "      <td>2002</td>\n",
       "      <td>365</td>\n",
       "    </tr>\n",
       "    <tr>\n",
       "      <th>2002-12-31 03:00:00</th>\n",
       "      <td>2002-12-31 03:00:00</td>\n",
       "      <td>24574.000</td>\n",
       "      <td>3</td>\n",
       "      <td>1</td>\n",
       "      <td>4</td>\n",
       "      <td>12</td>\n",
       "      <td>2002</td>\n",
       "      <td>365</td>\n",
       "    </tr>\n",
       "    <tr>\n",
       "      <th>2002-12-31 04:00:00</th>\n",
       "      <td>2002-12-31 04:00:00</td>\n",
       "      <td>24393.000</td>\n",
       "      <td>4</td>\n",
       "      <td>1</td>\n",
       "      <td>4</td>\n",
       "      <td>12</td>\n",
       "      <td>2002</td>\n",
       "      <td>365</td>\n",
       "    </tr>\n",
       "    <tr>\n",
       "      <th>2002-12-31 05:00:00</th>\n",
       "      <td>2002-12-31 05:00:00</td>\n",
       "      <td>24860.000</td>\n",
       "      <td>5</td>\n",
       "      <td>1</td>\n",
       "      <td>4</td>\n",
       "      <td>12</td>\n",
       "      <td>2002</td>\n",
       "      <td>365</td>\n",
       "    </tr>\n",
       "    <tr>\n",
       "      <th>...</th>\n",
       "      <td>...</td>\n",
       "      <td>...</td>\n",
       "      <td>...</td>\n",
       "      <td>...</td>\n",
       "      <td>...</td>\n",
       "      <td>...</td>\n",
       "      <td>...</td>\n",
       "      <td>...</td>\n",
       "    </tr>\n",
       "    <tr>\n",
       "      <th>2018-01-01 20:00:00</th>\n",
       "      <td>2018-01-01 20:00:00</td>\n",
       "      <td>44284.000</td>\n",
       "      <td>20</td>\n",
       "      <td>0</td>\n",
       "      <td>1</td>\n",
       "      <td>1</td>\n",
       "      <td>2018</td>\n",
       "      <td>1</td>\n",
       "    </tr>\n",
       "    <tr>\n",
       "      <th>2018-01-01 21:00:00</th>\n",
       "      <td>2018-01-01 21:00:00</td>\n",
       "      <td>43751.000</td>\n",
       "      <td>21</td>\n",
       "      <td>0</td>\n",
       "      <td>1</td>\n",
       "      <td>1</td>\n",
       "      <td>2018</td>\n",
       "      <td>1</td>\n",
       "    </tr>\n",
       "    <tr>\n",
       "      <th>2018-01-01 22:00:00</th>\n",
       "      <td>2018-01-01 22:00:00</td>\n",
       "      <td>42402.000</td>\n",
       "      <td>22</td>\n",
       "      <td>0</td>\n",
       "      <td>1</td>\n",
       "      <td>1</td>\n",
       "      <td>2018</td>\n",
       "      <td>1</td>\n",
       "    </tr>\n",
       "    <tr>\n",
       "      <th>2018-01-01 23:00:00</th>\n",
       "      <td>2018-01-01 23:00:00</td>\n",
       "      <td>40164.000</td>\n",
       "      <td>23</td>\n",
       "      <td>0</td>\n",
       "      <td>1</td>\n",
       "      <td>1</td>\n",
       "      <td>2018</td>\n",
       "      <td>1</td>\n",
       "    </tr>\n",
       "    <tr>\n",
       "      <th>2018-01-02 00:00:00</th>\n",
       "      <td>2018-01-02 00:00:00</td>\n",
       "      <td>38608.000</td>\n",
       "      <td>0</td>\n",
       "      <td>1</td>\n",
       "      <td>1</td>\n",
       "      <td>1</td>\n",
       "      <td>2018</td>\n",
       "      <td>2</td>\n",
       "    </tr>\n",
       "  </tbody>\n",
       "</table>\n",
       "<p>145366 rows × 8 columns</p>\n",
       "</div>"
      ],
      "text/plain": [
       "                                Datetime   PJME_MW  hour  dayofweek  quarter  \\\n",
       "Datetime                                                                       \n",
       "2002-12-31 01:00:00  2002-12-31 01:00:00 26498.000     1          1        4   \n",
       "2002-12-31 02:00:00  2002-12-31 02:00:00 25147.000     2          1        4   \n",
       "2002-12-31 03:00:00  2002-12-31 03:00:00 24574.000     3          1        4   \n",
       "2002-12-31 04:00:00  2002-12-31 04:00:00 24393.000     4          1        4   \n",
       "2002-12-31 05:00:00  2002-12-31 05:00:00 24860.000     5          1        4   \n",
       "...                                  ...       ...   ...        ...      ...   \n",
       "2018-01-01 20:00:00  2018-01-01 20:00:00 44284.000    20          0        1   \n",
       "2018-01-01 21:00:00  2018-01-01 21:00:00 43751.000    21          0        1   \n",
       "2018-01-01 22:00:00  2018-01-01 22:00:00 42402.000    22          0        1   \n",
       "2018-01-01 23:00:00  2018-01-01 23:00:00 40164.000    23          0        1   \n",
       "2018-01-02 00:00:00  2018-01-02 00:00:00 38608.000     0          1        1   \n",
       "\n",
       "                     month  year  dayofyear  \n",
       "Datetime                                     \n",
       "2002-12-31 01:00:00     12  2002        365  \n",
       "2002-12-31 02:00:00     12  2002        365  \n",
       "2002-12-31 03:00:00     12  2002        365  \n",
       "2002-12-31 04:00:00     12  2002        365  \n",
       "2002-12-31 05:00:00     12  2002        365  \n",
       "...                    ...   ...        ...  \n",
       "2018-01-01 20:00:00      1  2018          1  \n",
       "2018-01-01 21:00:00      1  2018          1  \n",
       "2018-01-01 22:00:00      1  2018          1  \n",
       "2018-01-01 23:00:00      1  2018          1  \n",
       "2018-01-02 00:00:00      1  2018          2  \n",
       "\n",
       "[145366 rows x 8 columns]"
      ]
     },
     "execution_count": 224,
     "metadata": {},
     "output_type": "execute_result"
    },
    {
     "data": {
      "application/javascript": [
       "\n",
       "            setTimeout(function() {\n",
       "                var nbb_cell_id = 224;\n",
       "                var nbb_unformatted_code = \"df\";\n",
       "                var nbb_formatted_code = \"df\";\n",
       "                var nbb_cells = Jupyter.notebook.get_cells();\n",
       "                for (var i = 0; i < nbb_cells.length; ++i) {\n",
       "                    if (nbb_cells[i].input_prompt_number == nbb_cell_id) {\n",
       "                        if (nbb_cells[i].get_text() == nbb_unformatted_code) {\n",
       "                             nbb_cells[i].set_text(nbb_formatted_code);\n",
       "                        }\n",
       "                        break;\n",
       "                    }\n",
       "                }\n",
       "            }, 500);\n",
       "            "
      ],
      "text/plain": [
       "<IPython.core.display.Javascript object>"
      ]
     },
     "metadata": {},
     "output_type": "display_data"
    },
    {
     "data": {
      "application/javascript": [
       "\n",
       "            setTimeout(function() {\n",
       "                var nbb_cell_id = 224;\n",
       "                var nbb_unformatted_code = \"df\";\n",
       "                var nbb_formatted_code = \"df\";\n",
       "                var nbb_cells = Jupyter.notebook.get_cells();\n",
       "                for (var i = 0; i < nbb_cells.length; ++i) {\n",
       "                    if (nbb_cells[i].input_prompt_number == nbb_cell_id) {\n",
       "                        if (nbb_cells[i].get_text() == nbb_unformatted_code) {\n",
       "                             nbb_cells[i].set_text(nbb_formatted_code);\n",
       "                        }\n",
       "                        break;\n",
       "                    }\n",
       "                }\n",
       "            }, 500);\n",
       "            "
      ],
      "text/plain": [
       "<IPython.core.display.Javascript object>"
      ]
     },
     "metadata": {},
     "output_type": "display_data"
    }
   ],
   "source": [
    "df"
   ]
  },
  {
   "cell_type": "code",
   "execution_count": 225,
   "id": "7b6619c7",
   "metadata": {},
   "outputs": [
    {
     "data": {
      "application/javascript": [
       "\n",
       "            setTimeout(function() {\n",
       "                var nbb_cell_id = 225;\n",
       "                var nbb_unformatted_code = \"X_train = train[FEATURES]\\ny_train = train[TARGET]\\n\\nX_test = test[FEATURES]\\ny_test = test[TARGET]\";\n",
       "                var nbb_formatted_code = \"X_train = train[FEATURES]\\ny_train = train[TARGET]\\n\\nX_test = test[FEATURES]\\ny_test = test[TARGET]\";\n",
       "                var nbb_cells = Jupyter.notebook.get_cells();\n",
       "                for (var i = 0; i < nbb_cells.length; ++i) {\n",
       "                    if (nbb_cells[i].input_prompt_number == nbb_cell_id) {\n",
       "                        if (nbb_cells[i].get_text() == nbb_unformatted_code) {\n",
       "                             nbb_cells[i].set_text(nbb_formatted_code);\n",
       "                        }\n",
       "                        break;\n",
       "                    }\n",
       "                }\n",
       "            }, 500);\n",
       "            "
      ],
      "text/plain": [
       "<IPython.core.display.Javascript object>"
      ]
     },
     "metadata": {},
     "output_type": "display_data"
    },
    {
     "data": {
      "application/javascript": [
       "\n",
       "            setTimeout(function() {\n",
       "                var nbb_cell_id = 225;\n",
       "                var nbb_unformatted_code = \"X_train = train[FEATURES]\\ny_train = train[TARGET]\\n\\nX_test = test[FEATURES]\\ny_test = test[TARGET]\";\n",
       "                var nbb_formatted_code = \"X_train = train[FEATURES]\\ny_train = train[TARGET]\\n\\nX_test = test[FEATURES]\\ny_test = test[TARGET]\";\n",
       "                var nbb_cells = Jupyter.notebook.get_cells();\n",
       "                for (var i = 0; i < nbb_cells.length; ++i) {\n",
       "                    if (nbb_cells[i].input_prompt_number == nbb_cell_id) {\n",
       "                        if (nbb_cells[i].get_text() == nbb_unformatted_code) {\n",
       "                             nbb_cells[i].set_text(nbb_formatted_code);\n",
       "                        }\n",
       "                        break;\n",
       "                    }\n",
       "                }\n",
       "            }, 500);\n",
       "            "
      ],
      "text/plain": [
       "<IPython.core.display.Javascript object>"
      ]
     },
     "metadata": {},
     "output_type": "display_data"
    }
   ],
   "source": [
    "X_train = train[FEATURES]\n",
    "y_train = train[TARGET]\n",
    "\n",
    "X_test = test[FEATURES]\n",
    "y_test = test[TARGET]"
   ]
  },
  {
   "cell_type": "code",
   "execution_count": 226,
   "id": "bfc85436",
   "metadata": {},
   "outputs": [
    {
     "name": "stdout",
     "output_type": "stream",
     "text": [
      "[0]\tvalidation_0-rmse:32601.87826\tvalidation_1-rmse:31654.28935\n",
      "[100]\tvalidation_0-rmse:12342.13873\tvalidation_1-rmse:11517.66004\n",
      "[200]\tvalidation_0-rmse:5373.33346\tvalidation_1-rmse:5165.30811\n",
      "[300]\tvalidation_0-rmse:3375.20923\tvalidation_1-rmse:3829.25476\n",
      "[400]\tvalidation_0-rmse:2882.55200\tvalidation_1-rmse:3715.04915\n",
      "[437]\tvalidation_0-rmse:2793.31200\tvalidation_1-rmse:3727.16078\n"
     ]
    },
    {
     "data": {
      "text/html": [
       "<style>#sk-container-id-5 {color: black;background-color: white;}#sk-container-id-5 pre{padding: 0;}#sk-container-id-5 div.sk-toggleable {background-color: white;}#sk-container-id-5 label.sk-toggleable__label {cursor: pointer;display: block;width: 100%;margin-bottom: 0;padding: 0.3em;box-sizing: border-box;text-align: center;}#sk-container-id-5 label.sk-toggleable__label-arrow:before {content: \"▸\";float: left;margin-right: 0.25em;color: #696969;}#sk-container-id-5 label.sk-toggleable__label-arrow:hover:before {color: black;}#sk-container-id-5 div.sk-estimator:hover label.sk-toggleable__label-arrow:before {color: black;}#sk-container-id-5 div.sk-toggleable__content {max-height: 0;max-width: 0;overflow: hidden;text-align: left;background-color: #f0f8ff;}#sk-container-id-5 div.sk-toggleable__content pre {margin: 0.2em;color: black;border-radius: 0.25em;background-color: #f0f8ff;}#sk-container-id-5 input.sk-toggleable__control:checked~div.sk-toggleable__content {max-height: 200px;max-width: 100%;overflow: auto;}#sk-container-id-5 input.sk-toggleable__control:checked~label.sk-toggleable__label-arrow:before {content: \"▾\";}#sk-container-id-5 div.sk-estimator input.sk-toggleable__control:checked~label.sk-toggleable__label {background-color: #d4ebff;}#sk-container-id-5 div.sk-label input.sk-toggleable__control:checked~label.sk-toggleable__label {background-color: #d4ebff;}#sk-container-id-5 input.sk-hidden--visually {border: 0;clip: rect(1px 1px 1px 1px);clip: rect(1px, 1px, 1px, 1px);height: 1px;margin: -1px;overflow: hidden;padding: 0;position: absolute;width: 1px;}#sk-container-id-5 div.sk-estimator {font-family: monospace;background-color: #f0f8ff;border: 1px dotted black;border-radius: 0.25em;box-sizing: border-box;margin-bottom: 0.5em;}#sk-container-id-5 div.sk-estimator:hover {background-color: #d4ebff;}#sk-container-id-5 div.sk-parallel-item::after {content: \"\";width: 100%;border-bottom: 1px solid gray;flex-grow: 1;}#sk-container-id-5 div.sk-label:hover label.sk-toggleable__label {background-color: #d4ebff;}#sk-container-id-5 div.sk-serial::before {content: \"\";position: absolute;border-left: 1px solid gray;box-sizing: border-box;top: 0;bottom: 0;left: 50%;z-index: 0;}#sk-container-id-5 div.sk-serial {display: flex;flex-direction: column;align-items: center;background-color: white;padding-right: 0.2em;padding-left: 0.2em;position: relative;}#sk-container-id-5 div.sk-item {position: relative;z-index: 1;}#sk-container-id-5 div.sk-parallel {display: flex;align-items: stretch;justify-content: center;background-color: white;position: relative;}#sk-container-id-5 div.sk-item::before, #sk-container-id-5 div.sk-parallel-item::before {content: \"\";position: absolute;border-left: 1px solid gray;box-sizing: border-box;top: 0;bottom: 0;left: 50%;z-index: -1;}#sk-container-id-5 div.sk-parallel-item {display: flex;flex-direction: column;z-index: 1;position: relative;background-color: white;}#sk-container-id-5 div.sk-parallel-item:first-child::after {align-self: flex-end;width: 50%;}#sk-container-id-5 div.sk-parallel-item:last-child::after {align-self: flex-start;width: 50%;}#sk-container-id-5 div.sk-parallel-item:only-child::after {width: 0;}#sk-container-id-5 div.sk-dashed-wrapped {border: 1px dashed gray;margin: 0 0.4em 0.5em 0.4em;box-sizing: border-box;padding-bottom: 0.4em;background-color: white;}#sk-container-id-5 div.sk-label label {font-family: monospace;font-weight: bold;display: inline-block;line-height: 1.2em;}#sk-container-id-5 div.sk-label-container {text-align: center;}#sk-container-id-5 div.sk-container {/* jupyter's `normalize.less` sets `[hidden] { display: none; }` but bootstrap.min.css set `[hidden] { display: none !important; }` so we also need the `!important` here to be able to override the default hidden behavior on the sphinx rendered scikit-learn.org. See: https://github.com/scikit-learn/scikit-learn/issues/21755 */display: inline-block !important;position: relative;}#sk-container-id-5 div.sk-text-repr-fallback {display: none;}</style><div id=\"sk-container-id-5\" class=\"sk-top-container\"><div class=\"sk-text-repr-fallback\"><pre>XGBRegressor(base_score=0.5, booster=&#x27;gbtree&#x27;, callbacks=None,\n",
       "             colsample_bylevel=1, colsample_bynode=1, colsample_bytree=1,\n",
       "             early_stopping_rounds=50, enable_categorical=False,\n",
       "             eval_metric=None, gamma=0, gpu_id=-1, grow_policy=&#x27;depthwise&#x27;,\n",
       "             importance_type=None, interaction_constraints=&#x27;&#x27;,\n",
       "             learning_rate=0.01, max_bin=256, max_cat_to_onehot=4,\n",
       "             max_delta_step=0, max_depth=6, max_leaves=0, min_child_weight=1,\n",
       "             missing=nan, monotone_constraints=&#x27;()&#x27;, n_estimators=1000,\n",
       "             n_jobs=0, num_parallel_tree=1, predictor=&#x27;auto&#x27;, random_state=0,\n",
       "             reg_alpha=0, reg_lambda=1, ...)</pre><b>In a Jupyter environment, please rerun this cell to show the HTML representation or trust the notebook. <br />On GitHub, the HTML representation is unable to render, please try loading this page with nbviewer.org.</b></div><div class=\"sk-container\" hidden><div class=\"sk-item\"><div class=\"sk-estimator sk-toggleable\"><input class=\"sk-toggleable__control sk-hidden--visually\" id=\"sk-estimator-id-5\" type=\"checkbox\" checked><label for=\"sk-estimator-id-5\" class=\"sk-toggleable__label sk-toggleable__label-arrow\">XGBRegressor</label><div class=\"sk-toggleable__content\"><pre>XGBRegressor(base_score=0.5, booster=&#x27;gbtree&#x27;, callbacks=None,\n",
       "             colsample_bylevel=1, colsample_bynode=1, colsample_bytree=1,\n",
       "             early_stopping_rounds=50, enable_categorical=False,\n",
       "             eval_metric=None, gamma=0, gpu_id=-1, grow_policy=&#x27;depthwise&#x27;,\n",
       "             importance_type=None, interaction_constraints=&#x27;&#x27;,\n",
       "             learning_rate=0.01, max_bin=256, max_cat_to_onehot=4,\n",
       "             max_delta_step=0, max_depth=6, max_leaves=0, min_child_weight=1,\n",
       "             missing=nan, monotone_constraints=&#x27;()&#x27;, n_estimators=1000,\n",
       "             n_jobs=0, num_parallel_tree=1, predictor=&#x27;auto&#x27;, random_state=0,\n",
       "             reg_alpha=0, reg_lambda=1, ...)</pre></div></div></div></div></div>"
      ],
      "text/plain": [
       "XGBRegressor(base_score=0.5, booster='gbtree', callbacks=None,\n",
       "             colsample_bylevel=1, colsample_bynode=1, colsample_bytree=1,\n",
       "             early_stopping_rounds=50, enable_categorical=False,\n",
       "             eval_metric=None, gamma=0, gpu_id=-1, grow_policy='depthwise',\n",
       "             importance_type=None, interaction_constraints='',\n",
       "             learning_rate=0.01, max_bin=256, max_cat_to_onehot=4,\n",
       "             max_delta_step=0, max_depth=6, max_leaves=0, min_child_weight=1,\n",
       "             missing=nan, monotone_constraints='()', n_estimators=1000,\n",
       "             n_jobs=0, num_parallel_tree=1, predictor='auto', random_state=0,\n",
       "             reg_alpha=0, reg_lambda=1, ...)"
      ]
     },
     "execution_count": 226,
     "metadata": {},
     "output_type": "execute_result"
    },
    {
     "data": {
      "application/javascript": [
       "\n",
       "            setTimeout(function() {\n",
       "                var nbb_cell_id = 226;\n",
       "                var nbb_unformatted_code = \"# Create our model\\nreg = XGBRegressor(n_estimators=1000, early_stopping_rounds=50, learning_rate=0.01)\\nreg.fit(X_train, y_train, eval_set=[(X_train, y_train), (X_test, y_test)], verbose=100)\";\n",
       "                var nbb_formatted_code = \"# Create our model\\nreg = XGBRegressor(n_estimators=1000, early_stopping_rounds=50, learning_rate=0.01)\\nreg.fit(X_train, y_train, eval_set=[(X_train, y_train), (X_test, y_test)], verbose=100)\";\n",
       "                var nbb_cells = Jupyter.notebook.get_cells();\n",
       "                for (var i = 0; i < nbb_cells.length; ++i) {\n",
       "                    if (nbb_cells[i].input_prompt_number == nbb_cell_id) {\n",
       "                        if (nbb_cells[i].get_text() == nbb_unformatted_code) {\n",
       "                             nbb_cells[i].set_text(nbb_formatted_code);\n",
       "                        }\n",
       "                        break;\n",
       "                    }\n",
       "                }\n",
       "            }, 500);\n",
       "            "
      ],
      "text/plain": [
       "<IPython.core.display.Javascript object>"
      ]
     },
     "metadata": {},
     "output_type": "display_data"
    },
    {
     "data": {
      "application/javascript": [
       "\n",
       "            setTimeout(function() {\n",
       "                var nbb_cell_id = 226;\n",
       "                var nbb_unformatted_code = \"# Create our model\\nreg = XGBRegressor(n_estimators=1000, early_stopping_rounds=50, learning_rate=0.01)\\nreg.fit(X_train, y_train, eval_set=[(X_train, y_train), (X_test, y_test)], verbose=100)\";\n",
       "                var nbb_formatted_code = \"# Create our model\\nreg = XGBRegressor(n_estimators=1000, early_stopping_rounds=50, learning_rate=0.01)\\nreg.fit(X_train, y_train, eval_set=[(X_train, y_train), (X_test, y_test)], verbose=100)\";\n",
       "                var nbb_cells = Jupyter.notebook.get_cells();\n",
       "                for (var i = 0; i < nbb_cells.length; ++i) {\n",
       "                    if (nbb_cells[i].input_prompt_number == nbb_cell_id) {\n",
       "                        if (nbb_cells[i].get_text() == nbb_unformatted_code) {\n",
       "                             nbb_cells[i].set_text(nbb_formatted_code);\n",
       "                        }\n",
       "                        break;\n",
       "                    }\n",
       "                }\n",
       "            }, 500);\n",
       "            "
      ],
      "text/plain": [
       "<IPython.core.display.Javascript object>"
      ]
     },
     "metadata": {},
     "output_type": "display_data"
    }
   ],
   "source": [
    "# Create our model\n",
    "reg = XGBRegressor(n_estimators=1000, early_stopping_rounds=50, learning_rate=0.01)\n",
    "reg.fit(X_train, y_train, eval_set=[(X_train, y_train), (X_test, y_test)], verbose=100)"
   ]
  },
  {
   "cell_type": "code",
   "execution_count": 227,
   "id": "5e840033",
   "metadata": {},
   "outputs": [
    {
     "data": {
      "application/javascript": [
       "\n",
       "            setTimeout(function() {\n",
       "                var nbb_cell_id = 227;\n",
       "                var nbb_unformatted_code = \"# Feature importance to give the important values based on how much these features\\n# were used in each of the trees built by the xgb model\\nfi = pd.DataFrame(\\n    data=reg.feature_importances_, index=reg.feature_names_in_, columns=[\\\"importance\\\"]\\n)\";\n",
       "                var nbb_formatted_code = \"# Feature importance to give the important values based on how much these features\\n# were used in each of the trees built by the xgb model\\nfi = pd.DataFrame(\\n    data=reg.feature_importances_, index=reg.feature_names_in_, columns=[\\\"importance\\\"]\\n)\";\n",
       "                var nbb_cells = Jupyter.notebook.get_cells();\n",
       "                for (var i = 0; i < nbb_cells.length; ++i) {\n",
       "                    if (nbb_cells[i].input_prompt_number == nbb_cell_id) {\n",
       "                        if (nbb_cells[i].get_text() == nbb_unformatted_code) {\n",
       "                             nbb_cells[i].set_text(nbb_formatted_code);\n",
       "                        }\n",
       "                        break;\n",
       "                    }\n",
       "                }\n",
       "            }, 500);\n",
       "            "
      ],
      "text/plain": [
       "<IPython.core.display.Javascript object>"
      ]
     },
     "metadata": {},
     "output_type": "display_data"
    },
    {
     "data": {
      "application/javascript": [
       "\n",
       "            setTimeout(function() {\n",
       "                var nbb_cell_id = 227;\n",
       "                var nbb_unformatted_code = \"# Feature importance to give the important values based on how much these features\\n# were used in each of the trees built by the xgb model\\nfi = pd.DataFrame(\\n    data=reg.feature_importances_, index=reg.feature_names_in_, columns=[\\\"importance\\\"]\\n)\";\n",
       "                var nbb_formatted_code = \"# Feature importance to give the important values based on how much these features\\n# were used in each of the trees built by the xgb model\\nfi = pd.DataFrame(\\n    data=reg.feature_importances_, index=reg.feature_names_in_, columns=[\\\"importance\\\"]\\n)\";\n",
       "                var nbb_cells = Jupyter.notebook.get_cells();\n",
       "                for (var i = 0; i < nbb_cells.length; ++i) {\n",
       "                    if (nbb_cells[i].input_prompt_number == nbb_cell_id) {\n",
       "                        if (nbb_cells[i].get_text() == nbb_unformatted_code) {\n",
       "                             nbb_cells[i].set_text(nbb_formatted_code);\n",
       "                        }\n",
       "                        break;\n",
       "                    }\n",
       "                }\n",
       "            }, 500);\n",
       "            "
      ],
      "text/plain": [
       "<IPython.core.display.Javascript object>"
      ]
     },
     "metadata": {},
     "output_type": "display_data"
    }
   ],
   "source": [
    "# Feature importance to give the important values based on how much these features\n",
    "# were used in each of the trees built by the xgb model\n",
    "fi = pd.DataFrame(\n",
    "    data=reg.feature_importances_, index=reg.feature_names_in_, columns=[\"importance\"]\n",
    ")"
   ]
  },
  {
   "cell_type": "code",
   "execution_count": 228,
   "id": "660fc8fe",
   "metadata": {},
   "outputs": [
    {
     "data": {
      "image/png": "[encoded data removed]",
      "text/plain": [
       "<Figure size 432x288 with 1 Axes>"
      ]
     },
     "metadata": {
      "needs_background": "light"
     },
     "output_type": "display_data"
    },
    {
     "data": {
      "application/javascript": [
       "\n",
       "            setTimeout(function() {\n",
       "                var nbb_cell_id = 228;\n",
       "                var nbb_unformatted_code = \"fi.sort_values(\\\"importance\\\").plot(kind=\\\"barh\\\", title=\\\"Feature Importance\\\")\\nplt.show()\";\n",
       "                var nbb_formatted_code = \"fi.sort_values(\\\"importance\\\").plot(kind=\\\"barh\\\", title=\\\"Feature Importance\\\")\\nplt.show()\";\n",
       "                var nbb_cells = Jupyter.notebook.get_cells();\n",
       "                for (var i = 0; i < nbb_cells.length; ++i) {\n",
       "                    if (nbb_cells[i].input_prompt_number == nbb_cell_id) {\n",
       "                        if (nbb_cells[i].get_text() == nbb_unformatted_code) {\n",
       "                             nbb_cells[i].set_text(nbb_formatted_code);\n",
       "                        }\n",
       "                        break;\n",
       "                    }\n",
       "                }\n",
       "            }, 500);\n",
       "            "
      ],
      "text/plain": [
       "<IPython.core.display.Javascript object>"
      ]
     },
     "metadata": {},
     "output_type": "display_data"
    },
    {
     "data": {
      "application/javascript": [
       "\n",
       "            setTimeout(function() {\n",
       "                var nbb_cell_id = 228;\n",
       "                var nbb_unformatted_code = \"fi.sort_values(\\\"importance\\\").plot(kind=\\\"barh\\\", title=\\\"Feature Importance\\\")\\nplt.show()\";\n",
       "                var nbb_formatted_code = \"fi.sort_values(\\\"importance\\\").plot(kind=\\\"barh\\\", title=\\\"Feature Importance\\\")\\nplt.show()\";\n",
       "                var nbb_cells = Jupyter.notebook.get_cells();\n",
       "                for (var i = 0; i < nbb_cells.length; ++i) {\n",
       "                    if (nbb_cells[i].input_prompt_number == nbb_cell_id) {\n",
       "                        if (nbb_cells[i].get_text() == nbb_unformatted_code) {\n",
       "                             nbb_cells[i].set_text(nbb_formatted_code);\n",
       "                        }\n",
       "                        break;\n",
       "                    }\n",
       "                }\n",
       "            }, 500);\n",
       "            "
      ],
      "text/plain": [
       "<IPython.core.display.Javascript object>"
      ]
     },
     "metadata": {},
     "output_type": "display_data"
    }
   ],
   "source": [
    "fi.sort_values(\"importance\").plot(kind=\"barh\", title=\"Feature Importance\")\n",
    "plt.show()"
   ]
  },
  {
   "cell_type": "code",
   "execution_count": 231,
   "id": "75ec9b10",
   "metadata": {},
   "outputs": [
    {
     "data": {
      "application/javascript": [
       "\n",
       "            setTimeout(function() {\n",
       "                var nbb_cell_id = 231;\n",
       "                var nbb_unformatted_code = \"# Forecast on the test set with the trained model\\ntest[\\\"prediction\\\"] = reg.predict(X_test)\\ndf = df.merge(test[['prediction']], how = 'left', left_index = True, right_index = True)\";\n",
       "                var nbb_formatted_code = \"# Forecast on the test set with the trained model\\ntest[\\\"prediction\\\"] = reg.predict(X_test)\\ndf = df.merge(test[[\\\"prediction\\\"]], how=\\\"left\\\", left_index=True, right_index=True)\";\n",
       "                var nbb_cells = Jupyter.notebook.get_cells();\n",
       "                for (var i = 0; i < nbb_cells.length; ++i) {\n",
       "                    if (nbb_cells[i].input_prompt_number == nbb_cell_id) {\n",
       "                        if (nbb_cells[i].get_text() == nbb_unformatted_code) {\n",
       "                             nbb_cells[i].set_text(nbb_formatted_code);\n",
       "                        }\n",
       "                        break;\n",
       "                    }\n",
       "                }\n",
       "            }, 500);\n",
       "            "
      ],
      "text/plain": [
       "<IPython.core.display.Javascript object>"
      ]
     },
     "metadata": {},
     "output_type": "display_data"
    },
    {
     "data": {
      "application/javascript": [
       "\n",
       "            setTimeout(function() {\n",
       "                var nbb_cell_id = 231;\n",
       "                var nbb_unformatted_code = \"# Forecast on the test set with the trained model\\ntest[\\\"prediction\\\"] = reg.predict(X_test)\\ndf = df.merge(test[['prediction']], how = 'left', left_index = True, right_index = True)\";\n",
       "                var nbb_formatted_code = \"# Forecast on the test set with the trained model\\ntest[\\\"prediction\\\"] = reg.predict(X_test)\\ndf = df.merge(test[[\\\"prediction\\\"]], how=\\\"left\\\", left_index=True, right_index=True)\";\n",
       "                var nbb_cells = Jupyter.notebook.get_cells();\n",
       "                for (var i = 0; i < nbb_cells.length; ++i) {\n",
       "                    if (nbb_cells[i].input_prompt_number == nbb_cell_id) {\n",
       "                        if (nbb_cells[i].get_text() == nbb_unformatted_code) {\n",
       "                             nbb_cells[i].set_text(nbb_formatted_code);\n",
       "                        }\n",
       "                        break;\n",
       "                    }\n",
       "                }\n",
       "            }, 500);\n",
       "            "
      ],
      "text/plain": [
       "<IPython.core.display.Javascript object>"
      ]
     },
     "metadata": {},
     "output_type": "display_data"
    }
   ],
   "source": [
    "# Forecast on the test set with the trained model\n",
    "test[\"prediction\"] = reg.predict(X_test)\n",
    "df = df.merge(test[[\"prediction\"]], how=\"left\", left_index=True, right_index=True)"
   ]
  },
  {
   "cell_type": "code",
   "execution_count": 232,
   "id": "ea7752f0",
   "metadata": {},
   "outputs": [
    {
     "data": {
      "text/html": [
       "<div>\n",
       "<style scoped>\n",
       "    .dataframe tbody tr th:only-of-type {\n",
       "        vertical-align: middle;\n",
       "    }\n",
       "\n",
       "    .dataframe tbody tr th {\n",
       "        vertical-align: top;\n",
       "    }\n",
       "\n",
       "    .dataframe thead th {\n",
       "        text-align: right;\n",
       "    }\n",
       "</style>\n",
       "<table border=\"1\" class=\"dataframe\">\n",
       "  <thead>\n",
       "    <tr style=\"text-align: right;\">\n",
       "      <th></th>\n",
       "      <th>Datetime</th>\n",
       "      <th>PJME_MW</th>\n",
       "      <th>hour</th>\n",
       "      <th>dayofweek</th>\n",
       "      <th>quarter</th>\n",
       "      <th>month</th>\n",
       "      <th>year</th>\n",
       "      <th>dayofyear</th>\n",
       "      <th>prediction</th>\n",
       "    </tr>\n",
       "    <tr>\n",
       "      <th>Datetime</th>\n",
       "      <th></th>\n",
       "      <th></th>\n",
       "      <th></th>\n",
       "      <th></th>\n",
       "      <th></th>\n",
       "      <th></th>\n",
       "      <th></th>\n",
       "      <th></th>\n",
       "      <th></th>\n",
       "    </tr>\n",
       "  </thead>\n",
       "  <tbody>\n",
       "    <tr>\n",
       "      <th>2002-01-01 01:00:00</th>\n",
       "      <td>2002-01-01 01:00:00</td>\n",
       "      <td>30393.000</td>\n",
       "      <td>1</td>\n",
       "      <td>1</td>\n",
       "      <td>1</td>\n",
       "      <td>1</td>\n",
       "      <td>2002</td>\n",
       "      <td>1</td>\n",
       "      <td>NaN</td>\n",
       "    </tr>\n",
       "    <tr>\n",
       "      <th>2002-01-01 02:00:00</th>\n",
       "      <td>2002-01-01 02:00:00</td>\n",
       "      <td>29265.000</td>\n",
       "      <td>2</td>\n",
       "      <td>1</td>\n",
       "      <td>1</td>\n",
       "      <td>1</td>\n",
       "      <td>2002</td>\n",
       "      <td>1</td>\n",
       "      <td>NaN</td>\n",
       "    </tr>\n",
       "    <tr>\n",
       "      <th>2002-01-01 03:00:00</th>\n",
       "      <td>2002-01-01 03:00:00</td>\n",
       "      <td>28357.000</td>\n",
       "      <td>3</td>\n",
       "      <td>1</td>\n",
       "      <td>1</td>\n",
       "      <td>1</td>\n",
       "      <td>2002</td>\n",
       "      <td>1</td>\n",
       "      <td>NaN</td>\n",
       "    </tr>\n",
       "    <tr>\n",
       "      <th>2002-01-01 04:00:00</th>\n",
       "      <td>2002-01-01 04:00:00</td>\n",
       "      <td>27899.000</td>\n",
       "      <td>4</td>\n",
       "      <td>1</td>\n",
       "      <td>1</td>\n",
       "      <td>1</td>\n",
       "      <td>2002</td>\n",
       "      <td>1</td>\n",
       "      <td>NaN</td>\n",
       "    </tr>\n",
       "    <tr>\n",
       "      <th>2002-01-01 05:00:00</th>\n",
       "      <td>2002-01-01 05:00:00</td>\n",
       "      <td>28057.000</td>\n",
       "      <td>5</td>\n",
       "      <td>1</td>\n",
       "      <td>1</td>\n",
       "      <td>1</td>\n",
       "      <td>2002</td>\n",
       "      <td>1</td>\n",
       "      <td>NaN</td>\n",
       "    </tr>\n",
       "    <tr>\n",
       "      <th>...</th>\n",
       "      <td>...</td>\n",
       "      <td>...</td>\n",
       "      <td>...</td>\n",
       "      <td>...</td>\n",
       "      <td>...</td>\n",
       "      <td>...</td>\n",
       "      <td>...</td>\n",
       "      <td>...</td>\n",
       "      <td>...</td>\n",
       "    </tr>\n",
       "    <tr>\n",
       "      <th>2018-08-02 20:00:00</th>\n",
       "      <td>2018-08-02 20:00:00</td>\n",
       "      <td>44057.000</td>\n",
       "      <td>20</td>\n",
       "      <td>3</td>\n",
       "      <td>3</td>\n",
       "      <td>8</td>\n",
       "      <td>2018</td>\n",
       "      <td>214</td>\n",
       "      <td>41014.219</td>\n",
       "    </tr>\n",
       "    <tr>\n",
       "      <th>2018-08-02 21:00:00</th>\n",
       "      <td>2018-08-02 21:00:00</td>\n",
       "      <td>43256.000</td>\n",
       "      <td>21</td>\n",
       "      <td>3</td>\n",
       "      <td>3</td>\n",
       "      <td>8</td>\n",
       "      <td>2018</td>\n",
       "      <td>214</td>\n",
       "      <td>40507.141</td>\n",
       "    </tr>\n",
       "    <tr>\n",
       "      <th>2018-08-02 22:00:00</th>\n",
       "      <td>2018-08-02 22:00:00</td>\n",
       "      <td>41552.000</td>\n",
       "      <td>22</td>\n",
       "      <td>3</td>\n",
       "      <td>3</td>\n",
       "      <td>8</td>\n",
       "      <td>2018</td>\n",
       "      <td>214</td>\n",
       "      <td>38933.621</td>\n",
       "    </tr>\n",
       "    <tr>\n",
       "      <th>2018-08-02 23:00:00</th>\n",
       "      <td>2018-08-02 23:00:00</td>\n",
       "      <td>38500.000</td>\n",
       "      <td>23</td>\n",
       "      <td>3</td>\n",
       "      <td>3</td>\n",
       "      <td>8</td>\n",
       "      <td>2018</td>\n",
       "      <td>214</td>\n",
       "      <td>35820.211</td>\n",
       "    </tr>\n",
       "    <tr>\n",
       "      <th>2018-08-03 00:00:00</th>\n",
       "      <td>2018-08-03 00:00:00</td>\n",
       "      <td>35486.000</td>\n",
       "      <td>0</td>\n",
       "      <td>4</td>\n",
       "      <td>3</td>\n",
       "      <td>8</td>\n",
       "      <td>2018</td>\n",
       "      <td>215</td>\n",
       "      <td>31232.650</td>\n",
       "    </tr>\n",
       "  </tbody>\n",
       "</table>\n",
       "<p>145372 rows × 9 columns</p>\n",
       "</div>"
      ],
      "text/plain": [
       "                                Datetime   PJME_MW  hour  dayofweek  quarter  \\\n",
       "Datetime                                                                       \n",
       "2002-01-01 01:00:00  2002-01-01 01:00:00 30393.000     1          1        1   \n",
       "2002-01-01 02:00:00  2002-01-01 02:00:00 29265.000     2          1        1   \n",
       "2002-01-01 03:00:00  2002-01-01 03:00:00 28357.000     3          1        1   \n",
       "2002-01-01 04:00:00  2002-01-01 04:00:00 27899.000     4          1        1   \n",
       "2002-01-01 05:00:00  2002-01-01 05:00:00 28057.000     5          1        1   \n",
       "...                                  ...       ...   ...        ...      ...   \n",
       "2018-08-02 20:00:00  2018-08-02 20:00:00 44057.000    20          3        3   \n",
       "2018-08-02 21:00:00  2018-08-02 21:00:00 43256.000    21          3        3   \n",
       "2018-08-02 22:00:00  2018-08-02 22:00:00 41552.000    22          3        3   \n",
       "2018-08-02 23:00:00  2018-08-02 23:00:00 38500.000    23          3        3   \n",
       "2018-08-03 00:00:00  2018-08-03 00:00:00 35486.000     0          4        3   \n",
       "\n",
       "                     month  year  dayofyear  prediction  \n",
       "Datetime                                                 \n",
       "2002-01-01 01:00:00      1  2002          1         NaN  \n",
       "2002-01-01 02:00:00      1  2002          1         NaN  \n",
       "2002-01-01 03:00:00      1  2002          1         NaN  \n",
       "2002-01-01 04:00:00      1  2002          1         NaN  \n",
       "2002-01-01 05:00:00      1  2002          1         NaN  \n",
       "...                    ...   ...        ...         ...  \n",
       "2018-08-02 20:00:00      8  2018        214   41014.219  \n",
       "2018-08-02 21:00:00      8  2018        214   40507.141  \n",
       "2018-08-02 22:00:00      8  2018        214   38933.621  \n",
       "2018-08-02 23:00:00      8  2018        214   35820.211  \n",
       "2018-08-03 00:00:00      8  2018        215   31232.650  \n",
       "\n",
       "[145372 rows x 9 columns]"
      ]
     },
     "execution_count": 232,
     "metadata": {},
     "output_type": "execute_result"
    },
    {
     "data": {
      "application/javascript": [
       "\n",
       "            setTimeout(function() {\n",
       "                var nbb_cell_id = 232;\n",
       "                var nbb_unformatted_code = \"df\";\n",
       "                var nbb_formatted_code = \"df\";\n",
       "                var nbb_cells = Jupyter.notebook.get_cells();\n",
       "                for (var i = 0; i < nbb_cells.length; ++i) {\n",
       "                    if (nbb_cells[i].input_prompt_number == nbb_cell_id) {\n",
       "                        if (nbb_cells[i].get_text() == nbb_unformatted_code) {\n",
       "                             nbb_cells[i].set_text(nbb_formatted_code);\n",
       "                        }\n",
       "                        break;\n",
       "                    }\n",
       "                }\n",
       "            }, 500);\n",
       "            "
      ],
      "text/plain": [
       "<IPython.core.display.Javascript object>"
      ]
     },
     "metadata": {},
     "output_type": "display_data"
    },
    {
     "data": {
      "application/javascript": [
       "\n",
       "            setTimeout(function() {\n",
       "                var nbb_cell_id = 232;\n",
       "                var nbb_unformatted_code = \"df\";\n",
       "                var nbb_formatted_code = \"df\";\n",
       "                var nbb_cells = Jupyter.notebook.get_cells();\n",
       "                for (var i = 0; i < nbb_cells.length; ++i) {\n",
       "                    if (nbb_cells[i].input_prompt_number == nbb_cell_id) {\n",
       "                        if (nbb_cells[i].get_text() == nbb_unformatted_code) {\n",
       "                             nbb_cells[i].set_text(nbb_formatted_code);\n",
       "                        }\n",
       "                        break;\n",
       "                    }\n",
       "                }\n",
       "            }, 500);\n",
       "            "
      ],
      "text/plain": [
       "<IPython.core.display.Javascript object>"
      ]
     },
     "metadata": {},
     "output_type": "display_data"
    }
   ],
   "source": [
    "df"
   ]
  },
  {
   "cell_type": "code",
   "execution_count": 234,
   "id": "90a316da",
   "metadata": {},
   "outputs": [
    {
     "data": {
      "image/png": "[encoded data removed]",
      "text/plain": [
       "<Figure size 1080x360 with 1 Axes>"
      ]
     },
     "metadata": {
      "needs_background": "light"
     },
     "output_type": "display_data"
    },
    {
     "data": {
      "application/javascript": [
       "\n",
       "            setTimeout(function() {\n",
       "                var nbb_cell_id = 234;\n",
       "                var nbb_unformatted_code = \"# Visualization\\nax = df[[\\\"PJME_MW\\\"]].plot(figsize=(15, 5))\\ndf[\\\"prediction\\\"].plot(ax=ax, style=\\\".\\\")\\nplt.legend([\\\"Truth Data\\\", \\\"Predictions\\\"])\\nax.set_title(\\\"Raw Data and Predictions\\\")\\nplt.show()\";\n",
       "                var nbb_formatted_code = \"# Visualization\\nax = df[[\\\"PJME_MW\\\"]].plot(figsize=(15, 5))\\ndf[\\\"prediction\\\"].plot(ax=ax, style=\\\".\\\")\\nplt.legend([\\\"Truth Data\\\", \\\"Predictions\\\"])\\nax.set_title(\\\"Raw Data and Predictions\\\")\\nplt.show()\";\n",
       "                var nbb_cells = Jupyter.notebook.get_cells();\n",
       "                for (var i = 0; i < nbb_cells.length; ++i) {\n",
       "                    if (nbb_cells[i].input_prompt_number == nbb_cell_id) {\n",
       "                        if (nbb_cells[i].get_text() == nbb_unformatted_code) {\n",
       "                             nbb_cells[i].set_text(nbb_formatted_code);\n",
       "                        }\n",
       "                        break;\n",
       "                    }\n",
       "                }\n",
       "            }, 500);\n",
       "            "
      ],
      "text/plain": [
       "<IPython.core.display.Javascript object>"
      ]
     },
     "metadata": {},
     "output_type": "display_data"
    },
    {
     "data": {
      "application/javascript": [
       "\n",
       "            setTimeout(function() {\n",
       "                var nbb_cell_id = 234;\n",
       "                var nbb_unformatted_code = \"# Visualization\\nax = df[[\\\"PJME_MW\\\"]].plot(figsize=(15, 5))\\ndf[\\\"prediction\\\"].plot(ax=ax, style=\\\".\\\")\\nplt.legend([\\\"Truth Data\\\", \\\"Predictions\\\"])\\nax.set_title(\\\"Raw Data and Predictions\\\")\\nplt.show()\";\n",
       "                var nbb_formatted_code = \"# Visualization\\nax = df[[\\\"PJME_MW\\\"]].plot(figsize=(15, 5))\\ndf[\\\"prediction\\\"].plot(ax=ax, style=\\\".\\\")\\nplt.legend([\\\"Truth Data\\\", \\\"Predictions\\\"])\\nax.set_title(\\\"Raw Data and Predictions\\\")\\nplt.show()\";\n",
       "                var nbb_cells = Jupyter.notebook.get_cells();\n",
       "                for (var i = 0; i < nbb_cells.length; ++i) {\n",
       "                    if (nbb_cells[i].input_prompt_number == nbb_cell_id) {\n",
       "                        if (nbb_cells[i].get_text() == nbb_unformatted_code) {\n",
       "                             nbb_cells[i].set_text(nbb_formatted_code);\n",
       "                        }\n",
       "                        break;\n",
       "                    }\n",
       "                }\n",
       "            }, 500);\n",
       "            "
      ],
      "text/plain": [
       "<IPython.core.display.Javascript object>"
      ]
     },
     "metadata": {},
     "output_type": "display_data"
    }
   ],
   "source": [
    "# Visualization\n",
    "ax = df[[\"PJME_MW\"]].plot(figsize=(15, 5))\n",
    "df[\"prediction\"].plot(ax=ax, style=\".\")\n",
    "plt.legend([\"Truth Data\", \"Predictions\"])\n",
    "ax.set_title(\"Raw Data and Predictions\")\n",
    "plt.show()"
   ]
  },
  {
   "cell_type": "code",
   "execution_count": 239,
   "id": "70607ae0",
   "metadata": {},
   "outputs": [
    {
     "data": {
      "image/png": "[encoded data removed]",
      "text/plain": [
       "<Figure size 1080x360 with 1 Axes>"
      ]
     },
     "metadata": {
      "needs_background": "light"
     },
     "output_type": "display_data"
    },
    {
     "data": {
      "application/javascript": [
       "\n",
       "            setTimeout(function() {\n",
       "                var nbb_cell_id = 239;\n",
       "                var nbb_unformatted_code = \"# to check one week of data\\n# to get an idea of what one single week looks like\\ndf.loc[(df.index > \\\"04-01-2018\\\") & (df.index < \\\"04-08-2018\\\")][\\\"PJME_MW\\\"] .plot(\\n    figsize=(15, 5), title=\\\"Week of Data\\\")\\ndf.loc[(df.index > \\\"04-01-2018\\\") & (df.index < \\\"04-08-2018\\\")][\\\"prediction\\\"].plot(style=\\\".\\\")\\nplt.legend([\\\"Truth Data\\\", \\\"Predictions\\\"])\\nax.set_title(\\\"Raw Data and Predictions\\\")\\nplt.show()\";\n",
       "                var nbb_formatted_code = \"# to check one week of data\\n# to get an idea of what one single week looks like\\ndf.loc[(df.index > \\\"04-01-2018\\\") & (df.index < \\\"04-08-2018\\\")][\\\"PJME_MW\\\"].plot(\\n    figsize=(15, 5), title=\\\"Week of Data\\\"\\n)\\ndf.loc[(df.index > \\\"04-01-2018\\\") & (df.index < \\\"04-08-2018\\\")][\\\"prediction\\\"].plot(\\n    style=\\\".\\\"\\n)\\nplt.legend([\\\"Truth Data\\\", \\\"Predictions\\\"])\\nax.set_title(\\\"Raw Data and Predictions\\\")\\nplt.show()\";\n",
       "                var nbb_cells = Jupyter.notebook.get_cells();\n",
       "                for (var i = 0; i < nbb_cells.length; ++i) {\n",
       "                    if (nbb_cells[i].input_prompt_number == nbb_cell_id) {\n",
       "                        if (nbb_cells[i].get_text() == nbb_unformatted_code) {\n",
       "                             nbb_cells[i].set_text(nbb_formatted_code);\n",
       "                        }\n",
       "                        break;\n",
       "                    }\n",
       "                }\n",
       "            }, 500);\n",
       "            "
      ],
      "text/plain": [
       "<IPython.core.display.Javascript object>"
      ]
     },
     "metadata": {},
     "output_type": "display_data"
    },
    {
     "data": {
      "application/javascript": [
       "\n",
       "            setTimeout(function() {\n",
       "                var nbb_cell_id = 239;\n",
       "                var nbb_unformatted_code = \"# to check one week of data\\n# to get an idea of what one single week looks like\\ndf.loc[(df.index > \\\"04-01-2018\\\") & (df.index < \\\"04-08-2018\\\")][\\\"PJME_MW\\\"] .plot(\\n    figsize=(15, 5), title=\\\"Week of Data\\\")\\ndf.loc[(df.index > \\\"04-01-2018\\\") & (df.index < \\\"04-08-2018\\\")][\\\"prediction\\\"].plot(style=\\\".\\\")\\nplt.legend([\\\"Truth Data\\\", \\\"Predictions\\\"])\\nax.set_title(\\\"Raw Data and Predictions\\\")\\nplt.show()\";\n",
       "                var nbb_formatted_code = \"# to check one week of data\\n# to get an idea of what one single week looks like\\ndf.loc[(df.index > \\\"04-01-2018\\\") & (df.index < \\\"04-08-2018\\\")][\\\"PJME_MW\\\"].plot(\\n    figsize=(15, 5), title=\\\"Week of Data\\\"\\n)\\ndf.loc[(df.index > \\\"04-01-2018\\\") & (df.index < \\\"04-08-2018\\\")][\\\"prediction\\\"].plot(\\n    style=\\\".\\\"\\n)\\nplt.legend([\\\"Truth Data\\\", \\\"Predictions\\\"])\\nax.set_title(\\\"Raw Data and Predictions\\\")\\nplt.show()\";\n",
       "                var nbb_cells = Jupyter.notebook.get_cells();\n",
       "                for (var i = 0; i < nbb_cells.length; ++i) {\n",
       "                    if (nbb_cells[i].input_prompt_number == nbb_cell_id) {\n",
       "                        if (nbb_cells[i].get_text() == nbb_unformatted_code) {\n",
       "                             nbb_cells[i].set_text(nbb_formatted_code);\n",
       "                        }\n",
       "                        break;\n",
       "                    }\n",
       "                }\n",
       "            }, 500);\n",
       "            "
      ],
      "text/plain": [
       "<IPython.core.display.Javascript object>"
      ]
     },
     "metadata": {},
     "output_type": "display_data"
    }
   ],
   "source": [
    "# to check one week of data\n",
    "# to get an idea of what one single week looks like\n",
    "df.loc[(df.index > \"04-01-2018\") & (df.index < \"04-08-2018\")][\"PJME_MW\"].plot(\n",
    "    figsize=(15, 5), title=\"Week of Data\"\n",
    ")\n",
    "df.loc[(df.index > \"04-01-2018\") & (df.index < \"04-08-2018\")][\"prediction\"].plot(\n",
    "    style=\".\"\n",
    ")\n",
    "plt.legend([\"Truth Data\", \"Predictions\"])\n",
    "ax.set_title(\"Raw Data and Predictions\")\n",
    "plt.show()"
   ]
  },
  {
   "cell_type": "code",
   "execution_count": 243,
   "id": "4b9e340d",
   "metadata": {},
   "outputs": [
    {
     "data": {
      "text/plain": [
       "3714.530191611067"
      ]
     },
     "execution_count": 243,
     "metadata": {},
     "output_type": "execute_result"
    },
    {
     "data": {
      "application/javascript": [
       "\n",
       "            setTimeout(function() {\n",
       "                var nbb_cell_id = 243;\n",
       "                var nbb_unformatted_code = \"# to test model performance\\nnp.sqrt(mean_squared_error(test[\\\"PJME_MW\\\"], test[\\\"prediction\\\"]))\\n#print(f\\\"RMSE Score on Test set : {score:0.2f}\\\")\";\n",
       "                var nbb_formatted_code = \"# to test model performance\\nnp.sqrt(mean_squared_error(test[\\\"PJME_MW\\\"], test[\\\"prediction\\\"]))\\n# print(f\\\"RMSE Score on Test set : {score:0.2f}\\\")\";\n",
       "                var nbb_cells = Jupyter.notebook.get_cells();\n",
       "                for (var i = 0; i < nbb_cells.length; ++i) {\n",
       "                    if (nbb_cells[i].input_prompt_number == nbb_cell_id) {\n",
       "                        if (nbb_cells[i].get_text() == nbb_unformatted_code) {\n",
       "                             nbb_cells[i].set_text(nbb_formatted_code);\n",
       "                        }\n",
       "                        break;\n",
       "                    }\n",
       "                }\n",
       "            }, 500);\n",
       "            "
      ],
      "text/plain": [
       "<IPython.core.display.Javascript object>"
      ]
     },
     "metadata": {},
     "output_type": "display_data"
    },
    {
     "data": {
      "application/javascript": [
       "\n",
       "            setTimeout(function() {\n",
       "                var nbb_cell_id = 243;\n",
       "                var nbb_unformatted_code = \"# to test model performance\\nnp.sqrt(mean_squared_error(test[\\\"PJME_MW\\\"], test[\\\"prediction\\\"]))\\n#print(f\\\"RMSE Score on Test set : {score:0.2f}\\\")\";\n",
       "                var nbb_formatted_code = \"# to test model performance\\nnp.sqrt(mean_squared_error(test[\\\"PJME_MW\\\"], test[\\\"prediction\\\"]))\\n# print(f\\\"RMSE Score on Test set : {score:0.2f}\\\")\";\n",
       "                var nbb_cells = Jupyter.notebook.get_cells();\n",
       "                for (var i = 0; i < nbb_cells.length; ++i) {\n",
       "                    if (nbb_cells[i].input_prompt_number == nbb_cell_id) {\n",
       "                        if (nbb_cells[i].get_text() == nbb_unformatted_code) {\n",
       "                             nbb_cells[i].set_text(nbb_formatted_code);\n",
       "                        }\n",
       "                        break;\n",
       "                    }\n",
       "                }\n",
       "            }, 500);\n",
       "            "
      ],
      "text/plain": [
       "<IPython.core.display.Javascript object>"
      ]
     },
     "metadata": {},
     "output_type": "display_data"
    }
   ],
   "source": [
    "# to test model performance\n",
    "np.sqrt(mean_squared_error(test[\"PJME_MW\"], test[\"prediction\"]))\n",
    "# print(f\"RMSE Score on Test set : {score:0.2f}\")"
   ]
  },
  {
   "cell_type": "code",
   "execution_count": 262,
   "id": "d269249c",
   "metadata": {},
   "outputs": [
    {
     "data": {
      "text/plain": [
       "date\n",
       "2016-08-13   14559.814\n",
       "2016-08-14   14393.351\n",
       "2016-09-10   12564.790\n",
       "2016-08-12   11527.895\n",
       "2016-09-09   11432.962\n",
       "Name: error, dtype: float64"
      ]
     },
     "execution_count": 262,
     "metadata": {},
     "output_type": "execute_result"
    },
    {
     "data": {
      "application/javascript": [
       "\n",
       "            setTimeout(function() {\n",
       "                var nbb_cell_id = 262;\n",
       "                var nbb_unformatted_code = \"# Calculate error\\n# worst predictions\\n\\ntest[\\\"error\\\"] = np.abs(test[\\\"PJME_MW\\\"] - test[\\\"prediction\\\"])\\ntest[\\\"date\\\"] = test.index.date\\ntest.groupby([\\\"date\\\"])[\\\"error\\\"].mean().sort_values(ascending=False).head(5)\";\n",
       "                var nbb_formatted_code = \"# Calculate error\\n# worst predictions\\n\\ntest[\\\"error\\\"] = np.abs(test[\\\"PJME_MW\\\"] - test[\\\"prediction\\\"])\\ntest[\\\"date\\\"] = test.index.date\\ntest.groupby([\\\"date\\\"])[\\\"error\\\"].mean().sort_values(ascending=False).head(5)\";\n",
       "                var nbb_cells = Jupyter.notebook.get_cells();\n",
       "                for (var i = 0; i < nbb_cells.length; ++i) {\n",
       "                    if (nbb_cells[i].input_prompt_number == nbb_cell_id) {\n",
       "                        if (nbb_cells[i].get_text() == nbb_unformatted_code) {\n",
       "                             nbb_cells[i].set_text(nbb_formatted_code);\n",
       "                        }\n",
       "                        break;\n",
       "                    }\n",
       "                }\n",
       "            }, 500);\n",
       "            "
      ],
      "text/plain": [
       "<IPython.core.display.Javascript object>"
      ]
     },
     "metadata": {},
     "output_type": "display_data"
    },
    {
     "data": {
      "application/javascript": [
       "\n",
       "            setTimeout(function() {\n",
       "                var nbb_cell_id = 262;\n",
       "                var nbb_unformatted_code = \"# Calculate error\\n# worst predictions\\n\\ntest[\\\"error\\\"] = np.abs(test[\\\"PJME_MW\\\"] - test[\\\"prediction\\\"])\\ntest[\\\"date\\\"] = test.index.date\\ntest.groupby([\\\"date\\\"])[\\\"error\\\"].mean().sort_values(ascending=False).head(5)\";\n",
       "                var nbb_formatted_code = \"# Calculate error\\n# worst predictions\\n\\ntest[\\\"error\\\"] = np.abs(test[\\\"PJME_MW\\\"] - test[\\\"prediction\\\"])\\ntest[\\\"date\\\"] = test.index.date\\ntest.groupby([\\\"date\\\"])[\\\"error\\\"].mean().sort_values(ascending=False).head(5)\";\n",
       "                var nbb_cells = Jupyter.notebook.get_cells();\n",
       "                for (var i = 0; i < nbb_cells.length; ++i) {\n",
       "                    if (nbb_cells[i].input_prompt_number == nbb_cell_id) {\n",
       "                        if (nbb_cells[i].get_text() == nbb_unformatted_code) {\n",
       "                             nbb_cells[i].set_text(nbb_formatted_code);\n",
       "                        }\n",
       "                        break;\n",
       "                    }\n",
       "                }\n",
       "            }, 500);\n",
       "            "
      ],
      "text/plain": [
       "<IPython.core.display.Javascript object>"
      ]
     },
     "metadata": {},
     "output_type": "display_data"
    }
   ],
   "source": [
    "# Calculate error\n",
    "# worst predictions\n",
    "\n",
    "test[\"error\"] = np.abs(test[\"PJME_MW\"] - test[\"prediction\"])\n",
    "test[\"date\"] = test.index.date\n",
    "test.groupby([\"date\"])[\"error\"].mean().sort_values(ascending=False).head(5)"
   ]
  },
  {
   "cell_type": "code",
   "execution_count": 264,
   "id": "c14669d5",
   "metadata": {},
   "outputs": [
    {
     "data": {
      "text/plain": [
       "date\n",
       "2016-09-27   376.075\n",
       "2016-05-01   420.460\n",
       "2016-04-04   432.775\n",
       "2015-03-10   444.995\n",
       "2016-12-08   480.122\n",
       "Name: error, dtype: float64"
      ]
     },
     "execution_count": 264,
     "metadata": {},
     "output_type": "execute_result"
    },
    {
     "data": {
      "application/javascript": [
       "\n",
       "            setTimeout(function() {\n",
       "                var nbb_cell_id = 264;\n",
       "                var nbb_unformatted_code = \"# Calculate error\\n# best predictions\\ntest[\\\"error\\\"] = np.abs(test[\\\"PJME_MW\\\"] - test[\\\"prediction\\\"])\\ntest[\\\"date\\\"] = test.index.date\\ntest.groupby(['date'])[\\\"error\\\"].mean().sort_values(ascending=True).head(5)\";\n",
       "                var nbb_formatted_code = \"# Calculate error\\n# best predictions\\ntest[\\\"error\\\"] = np.abs(test[\\\"PJME_MW\\\"] - test[\\\"prediction\\\"])\\ntest[\\\"date\\\"] = test.index.date\\ntest.groupby([\\\"date\\\"])[\\\"error\\\"].mean().sort_values(ascending=True).head(5)\";\n",
       "                var nbb_cells = Jupyter.notebook.get_cells();\n",
       "                for (var i = 0; i < nbb_cells.length; ++i) {\n",
       "                    if (nbb_cells[i].input_prompt_number == nbb_cell_id) {\n",
       "                        if (nbb_cells[i].get_text() == nbb_unformatted_code) {\n",
       "                             nbb_cells[i].set_text(nbb_formatted_code);\n",
       "                        }\n",
       "                        break;\n",
       "                    }\n",
       "                }\n",
       "            }, 500);\n",
       "            "
      ],
      "text/plain": [
       "<IPython.core.display.Javascript object>"
      ]
     },
     "metadata": {},
     "output_type": "display_data"
    },
    {
     "data": {
      "application/javascript": [
       "\n",
       "            setTimeout(function() {\n",
       "                var nbb_cell_id = 264;\n",
       "                var nbb_unformatted_code = \"# Calculate error\\n# best predictions\\ntest[\\\"error\\\"] = np.abs(test[\\\"PJME_MW\\\"] - test[\\\"prediction\\\"])\\ntest[\\\"date\\\"] = test.index.date\\ntest.groupby(['date'])[\\\"error\\\"].mean().sort_values(ascending=True).head(5)\";\n",
       "                var nbb_formatted_code = \"# Calculate error\\n# best predictions\\ntest[\\\"error\\\"] = np.abs(test[\\\"PJME_MW\\\"] - test[\\\"prediction\\\"])\\ntest[\\\"date\\\"] = test.index.date\\ntest.groupby([\\\"date\\\"])[\\\"error\\\"].mean().sort_values(ascending=True).head(5)\";\n",
       "                var nbb_cells = Jupyter.notebook.get_cells();\n",
       "                for (var i = 0; i < nbb_cells.length; ++i) {\n",
       "                    if (nbb_cells[i].input_prompt_number == nbb_cell_id) {\n",
       "                        if (nbb_cells[i].get_text() == nbb_unformatted_code) {\n",
       "                             nbb_cells[i].set_text(nbb_formatted_code);\n",
       "                        }\n",
       "                        break;\n",
       "                    }\n",
       "                }\n",
       "            }, 500);\n",
       "            "
      ],
      "text/plain": [
       "<IPython.core.display.Javascript object>"
      ]
     },
     "metadata": {},
     "output_type": "display_data"
    }
   ],
   "source": [
    "# Calculate error\n",
    "# best predictions\n",
    "test[\"error\"] = np.abs(test[\"PJME_MW\"] - test[\"prediction\"])\n",
    "test[\"date\"] = test.index.date\n",
    "test.groupby([\"date\"])[\"error\"].mean().sort_values(ascending=True).head(5)"
   ]
  },
  {
   "cell_type": "code",
   "execution_count": null,
   "id": "32b8692e",
   "metadata": {},
   "outputs": [],
   "source": [
    "## next steps\n",
    "# more robust cross validation\n",
    "# add more features (weather forecast, holidays)"
   ]
  }
 ],
 "metadata": {
  "kernelspec": {
   "display_name": "Python 3 (ipykernel)",
   "language": "python",
   "name": "python3"
  },
  "language_info": {
   "codemirror_mode": {
    "name": "ipython",
    "version": 3
   },
   "file_extension": ".py",
   "mimetype": "text/x-python",
   "name": "python",
   "nbconvert_exporter": "python",
   "pygments_lexer": "ipython3",
   "version": "3.9.7"
  }
 },
 "nbformat": 4,
 "nbformat_minor": 5
}
